{
 "cells": [
  {
   "cell_type": "markdown",
   "metadata": {},
   "source": [
    "# <font color='purple'>Natnicha Palakawong na ayuthaya"
   ]
  },
  {
   "cell_type": "markdown",
   "metadata": {},
   "source": [
    "# <font color='orange'>Human Resources and Candidate Search"
   ]
  },
  {
   "cell_type": "markdown",
   "metadata": {},
   "source": [
    "## Data sources"
   ]
  },
  {
   "cell_type": "markdown",
   "metadata": {},
   "source": [
    "I gathered 15 resumes; some of them are from the website called monster.com, some of them are from my friends, and I created some of the resume myself. I found the job description online from linkedin.com; Amazon company is looking for machine learning scientist. "
   ]
  },
  {
   "cell_type": "markdown",
   "metadata": {},
   "source": [
    "First, I import all the library that will be needed for this assignment."
   ]
  },
  {
   "cell_type": "code",
   "execution_count": 1,
   "metadata": {},
   "outputs": [],
   "source": [
    "import numpy as np\n",
    "import pandas as pd\n",
    "import re\n",
    "import sys\n",
    "import csv"
   ]
  },
  {
   "cell_type": "markdown",
   "metadata": {},
   "source": [
    "## Data Cleaning"
   ]
  },
  {
   "cell_type": "markdown",
   "metadata": {},
   "source": [
    "First, I open and read Candidates.csv file to see what is in the file."
   ]
  },
  {
   "cell_type": "code",
   "execution_count": 2,
   "metadata": {},
   "outputs": [
    {
     "name": "stdout",
     "output_type": "stream",
     "text": [
      "Filetype: CSV, \n",
      ", Information about candidates\n",
      ", Candidates for the new Data Scientist role\n",
      "Name, Name of the text file\n",
      "THOMAS B. SEEKER, Thomas_resume\n",
      "JOSH K. SCOTT, Josh_resume\n",
      "SVETLANA KON, Kon_resume\n",
      "PURSA TANEEPAN, Pursa_resume\n",
      "IGOR KORICANAC, Igor_resume\n",
      "IGOR KORICANAC, Igor_resume\n",
      "PAT SRISITTIDECH , Pat_resume\n",
      "MARIA TANNER, Maria_resume\n",
      "GRACE PINKERTON, Grace_resume\n",
      "AMY JONES, Amy_resume\n",
      "AMY JONES, Amy_resume\n",
      "DAPHNE WRIGHT, Daphne_resume\n",
      "CATHERINE DRUMMOND, Cat_resume\n",
      "MARIE ANDERSON, Marie_resume\n",
      "DANA LOWELL, Dana_resume\n",
      "PEYTON A. GARRETT, Peyton_resume\n",
      "CARLA FOSTER, Carla_resume\n",
      "PHOEBE ENDSLEY, \n",
      "PENNY SMITH, \n"
     ]
    }
   ],
   "source": [
    "with open('Candidates.csv','r') as candidates_file:\n",
    "    candidates_array = csv.reader(candidates_file)\n",
    "    for row in candidates_array:\n",
    "        ## Join by comma\n",
    "        print(', '.join(row))"
   ]
  },
  {
   "cell_type": "markdown",
   "metadata": {},
   "source": [
    "I found that the 3 header rows can be skipped because they are not useful for my analysis in this project."
   ]
  },
  {
   "cell_type": "markdown",
   "metadata": {},
   "source": [
    "I skip the first three rows and read the file."
   ]
  },
  {
   "cell_type": "code",
   "execution_count": 3,
   "metadata": {},
   "outputs": [
    {
     "data": {
      "text/html": [
       "<div>\n",
       "<style scoped>\n",
       "    .dataframe tbody tr th:only-of-type {\n",
       "        vertical-align: middle;\n",
       "    }\n",
       "\n",
       "    .dataframe tbody tr th {\n",
       "        vertical-align: top;\n",
       "    }\n",
       "\n",
       "    .dataframe thead th {\n",
       "        text-align: right;\n",
       "    }\n",
       "</style>\n",
       "<table border=\"1\" class=\"dataframe\">\n",
       "  <thead>\n",
       "    <tr style=\"text-align: right;\">\n",
       "      <th></th>\n",
       "      <th>Name</th>\n",
       "      <th>Name of the text file</th>\n",
       "    </tr>\n",
       "  </thead>\n",
       "  <tbody>\n",
       "    <tr>\n",
       "      <th>0</th>\n",
       "      <td>THOMAS B. SEEKER</td>\n",
       "      <td>Thomas_resume</td>\n",
       "    </tr>\n",
       "    <tr>\n",
       "      <th>1</th>\n",
       "      <td>JOSH K. SCOTT</td>\n",
       "      <td>Josh_resume</td>\n",
       "    </tr>\n",
       "    <tr>\n",
       "      <th>2</th>\n",
       "      <td>SVETLANA KON</td>\n",
       "      <td>Kon_resume</td>\n",
       "    </tr>\n",
       "    <tr>\n",
       "      <th>3</th>\n",
       "      <td>PURSA TANEEPAN</td>\n",
       "      <td>Pursa_resume</td>\n",
       "    </tr>\n",
       "    <tr>\n",
       "      <th>4</th>\n",
       "      <td>IGOR KORICANAC</td>\n",
       "      <td>Igor_resume</td>\n",
       "    </tr>\n",
       "    <tr>\n",
       "      <th>5</th>\n",
       "      <td>IGOR KORICANAC</td>\n",
       "      <td>Igor_resume</td>\n",
       "    </tr>\n",
       "    <tr>\n",
       "      <th>6</th>\n",
       "      <td>PAT SRISITTIDECH</td>\n",
       "      <td>Pat_resume</td>\n",
       "    </tr>\n",
       "    <tr>\n",
       "      <th>7</th>\n",
       "      <td>MARIA TANNER</td>\n",
       "      <td>Maria_resume</td>\n",
       "    </tr>\n",
       "    <tr>\n",
       "      <th>8</th>\n",
       "      <td>GRACE PINKERTON</td>\n",
       "      <td>Grace_resume</td>\n",
       "    </tr>\n",
       "    <tr>\n",
       "      <th>9</th>\n",
       "      <td>AMY JONES</td>\n",
       "      <td>Amy_resume</td>\n",
       "    </tr>\n",
       "    <tr>\n",
       "      <th>10</th>\n",
       "      <td>AMY JONES</td>\n",
       "      <td>Amy_resume</td>\n",
       "    </tr>\n",
       "    <tr>\n",
       "      <th>11</th>\n",
       "      <td>DAPHNE WRIGHT</td>\n",
       "      <td>Daphne_resume</td>\n",
       "    </tr>\n",
       "    <tr>\n",
       "      <th>12</th>\n",
       "      <td>CATHERINE DRUMMOND</td>\n",
       "      <td>Cat_resume</td>\n",
       "    </tr>\n",
       "    <tr>\n",
       "      <th>13</th>\n",
       "      <td>MARIE ANDERSON</td>\n",
       "      <td>Marie_resume</td>\n",
       "    </tr>\n",
       "    <tr>\n",
       "      <th>14</th>\n",
       "      <td>DANA LOWELL</td>\n",
       "      <td>Dana_resume</td>\n",
       "    </tr>\n",
       "    <tr>\n",
       "      <th>15</th>\n",
       "      <td>PEYTON A. GARRETT</td>\n",
       "      <td>Peyton_resume</td>\n",
       "    </tr>\n",
       "    <tr>\n",
       "      <th>16</th>\n",
       "      <td>CARLA FOSTER</td>\n",
       "      <td>Carla_resume</td>\n",
       "    </tr>\n",
       "    <tr>\n",
       "      <th>17</th>\n",
       "      <td>PHOEBE ENDSLEY</td>\n",
       "      <td>NaN</td>\n",
       "    </tr>\n",
       "    <tr>\n",
       "      <th>18</th>\n",
       "      <td>PENNY SMITH</td>\n",
       "      <td>NaN</td>\n",
       "    </tr>\n",
       "  </tbody>\n",
       "</table>\n",
       "</div>"
      ],
      "text/plain": [
       "                  Name Name of the text file\n",
       "0     THOMAS B. SEEKER         Thomas_resume\n",
       "1        JOSH K. SCOTT           Josh_resume\n",
       "2         SVETLANA KON            Kon_resume\n",
       "3       PURSA TANEEPAN          Pursa_resume\n",
       "4       IGOR KORICANAC           Igor_resume\n",
       "5       IGOR KORICANAC           Igor_resume\n",
       "6    PAT SRISITTIDECH             Pat_resume\n",
       "7         MARIA TANNER          Maria_resume\n",
       "8      GRACE PINKERTON          Grace_resume\n",
       "9            AMY JONES            Amy_resume\n",
       "10           AMY JONES            Amy_resume\n",
       "11       DAPHNE WRIGHT         Daphne_resume\n",
       "12  CATHERINE DRUMMOND            Cat_resume\n",
       "13      MARIE ANDERSON          Marie_resume\n",
       "14         DANA LOWELL           Dana_resume\n",
       "15   PEYTON A. GARRETT         Peyton_resume\n",
       "16        CARLA FOSTER          Carla_resume\n",
       "17      PHOEBE ENDSLEY                   NaN\n",
       "18         PENNY SMITH                   NaN"
      ]
     },
     "execution_count": 3,
     "metadata": {},
     "output_type": "execute_result"
    }
   ],
   "source": [
    "df = pd.read_csv(\"Candidates.csv\", skiprows = 3)\n",
    "df"
   ]
  },
  {
   "cell_type": "markdown",
   "metadata": {},
   "source": [
    "There are duplicate values and empty values in my dataframe. Therefore, I have to continue cleaning up my data."
   ]
  },
  {
   "cell_type": "markdown",
   "metadata": {},
   "source": [
    "Count total rows in dataframe"
   ]
  },
  {
   "cell_type": "code",
   "execution_count": 4,
   "metadata": {},
   "outputs": [
    {
     "data": {
      "text/plain": [
       "19"
      ]
     },
     "execution_count": 4,
     "metadata": {},
     "output_type": "execute_result"
    }
   ],
   "source": [
    "len(df)"
   ]
  },
  {
   "cell_type": "markdown",
   "metadata": {},
   "source": [
    "Next, I drop the duplicate rows."
   ]
  },
  {
   "cell_type": "code",
   "execution_count": 5,
   "metadata": {},
   "outputs": [
    {
     "data": {
      "text/html": [
       "<div>\n",
       "<style scoped>\n",
       "    .dataframe tbody tr th:only-of-type {\n",
       "        vertical-align: middle;\n",
       "    }\n",
       "\n",
       "    .dataframe tbody tr th {\n",
       "        vertical-align: top;\n",
       "    }\n",
       "\n",
       "    .dataframe thead th {\n",
       "        text-align: right;\n",
       "    }\n",
       "</style>\n",
       "<table border=\"1\" class=\"dataframe\">\n",
       "  <thead>\n",
       "    <tr style=\"text-align: right;\">\n",
       "      <th></th>\n",
       "      <th>Name</th>\n",
       "      <th>Name of the text file</th>\n",
       "    </tr>\n",
       "  </thead>\n",
       "  <tbody>\n",
       "    <tr>\n",
       "      <th>0</th>\n",
       "      <td>THOMAS B. SEEKER</td>\n",
       "      <td>Thomas_resume</td>\n",
       "    </tr>\n",
       "    <tr>\n",
       "      <th>1</th>\n",
       "      <td>JOSH K. SCOTT</td>\n",
       "      <td>Josh_resume</td>\n",
       "    </tr>\n",
       "    <tr>\n",
       "      <th>2</th>\n",
       "      <td>SVETLANA KON</td>\n",
       "      <td>Kon_resume</td>\n",
       "    </tr>\n",
       "    <tr>\n",
       "      <th>3</th>\n",
       "      <td>PURSA TANEEPAN</td>\n",
       "      <td>Pursa_resume</td>\n",
       "    </tr>\n",
       "    <tr>\n",
       "      <th>4</th>\n",
       "      <td>IGOR KORICANAC</td>\n",
       "      <td>Igor_resume</td>\n",
       "    </tr>\n",
       "    <tr>\n",
       "      <th>6</th>\n",
       "      <td>PAT SRISITTIDECH</td>\n",
       "      <td>Pat_resume</td>\n",
       "    </tr>\n",
       "    <tr>\n",
       "      <th>7</th>\n",
       "      <td>MARIA TANNER</td>\n",
       "      <td>Maria_resume</td>\n",
       "    </tr>\n",
       "    <tr>\n",
       "      <th>8</th>\n",
       "      <td>GRACE PINKERTON</td>\n",
       "      <td>Grace_resume</td>\n",
       "    </tr>\n",
       "    <tr>\n",
       "      <th>9</th>\n",
       "      <td>AMY JONES</td>\n",
       "      <td>Amy_resume</td>\n",
       "    </tr>\n",
       "    <tr>\n",
       "      <th>11</th>\n",
       "      <td>DAPHNE WRIGHT</td>\n",
       "      <td>Daphne_resume</td>\n",
       "    </tr>\n",
       "    <tr>\n",
       "      <th>12</th>\n",
       "      <td>CATHERINE DRUMMOND</td>\n",
       "      <td>Cat_resume</td>\n",
       "    </tr>\n",
       "    <tr>\n",
       "      <th>13</th>\n",
       "      <td>MARIE ANDERSON</td>\n",
       "      <td>Marie_resume</td>\n",
       "    </tr>\n",
       "    <tr>\n",
       "      <th>14</th>\n",
       "      <td>DANA LOWELL</td>\n",
       "      <td>Dana_resume</td>\n",
       "    </tr>\n",
       "    <tr>\n",
       "      <th>15</th>\n",
       "      <td>PEYTON A. GARRETT</td>\n",
       "      <td>Peyton_resume</td>\n",
       "    </tr>\n",
       "    <tr>\n",
       "      <th>16</th>\n",
       "      <td>CARLA FOSTER</td>\n",
       "      <td>Carla_resume</td>\n",
       "    </tr>\n",
       "    <tr>\n",
       "      <th>17</th>\n",
       "      <td>PHOEBE ENDSLEY</td>\n",
       "      <td>NaN</td>\n",
       "    </tr>\n",
       "    <tr>\n",
       "      <th>18</th>\n",
       "      <td>PENNY SMITH</td>\n",
       "      <td>NaN</td>\n",
       "    </tr>\n",
       "  </tbody>\n",
       "</table>\n",
       "</div>"
      ],
      "text/plain": [
       "                  Name Name of the text file\n",
       "0     THOMAS B. SEEKER         Thomas_resume\n",
       "1        JOSH K. SCOTT           Josh_resume\n",
       "2         SVETLANA KON            Kon_resume\n",
       "3       PURSA TANEEPAN          Pursa_resume\n",
       "4       IGOR KORICANAC           Igor_resume\n",
       "6    PAT SRISITTIDECH             Pat_resume\n",
       "7         MARIA TANNER          Maria_resume\n",
       "8      GRACE PINKERTON          Grace_resume\n",
       "9            AMY JONES            Amy_resume\n",
       "11       DAPHNE WRIGHT         Daphne_resume\n",
       "12  CATHERINE DRUMMOND            Cat_resume\n",
       "13      MARIE ANDERSON          Marie_resume\n",
       "14         DANA LOWELL           Dana_resume\n",
       "15   PEYTON A. GARRETT         Peyton_resume\n",
       "16        CARLA FOSTER          Carla_resume\n",
       "17      PHOEBE ENDSLEY                   NaN\n",
       "18         PENNY SMITH                   NaN"
      ]
     },
     "execution_count": 5,
     "metadata": {},
     "output_type": "execute_result"
    }
   ],
   "source": [
    "df = df.drop_duplicates()\n",
    "df"
   ]
  },
  {
   "cell_type": "markdown",
   "metadata": {},
   "source": [
    "Count total rows in dataframe"
   ]
  },
  {
   "cell_type": "code",
   "execution_count": 6,
   "metadata": {},
   "outputs": [
    {
     "data": {
      "text/plain": [
       "17"
      ]
     },
     "execution_count": 6,
     "metadata": {},
     "output_type": "execute_result"
    }
   ],
   "source": [
    "len(df)"
   ]
  },
  {
   "cell_type": "markdown",
   "metadata": {},
   "source": [
    "Then, I remove NaN values from dataframe"
   ]
  },
  {
   "cell_type": "code",
   "execution_count": 7,
   "metadata": {},
   "outputs": [
    {
     "data": {
      "text/html": [
       "<div>\n",
       "<style scoped>\n",
       "    .dataframe tbody tr th:only-of-type {\n",
       "        vertical-align: middle;\n",
       "    }\n",
       "\n",
       "    .dataframe tbody tr th {\n",
       "        vertical-align: top;\n",
       "    }\n",
       "\n",
       "    .dataframe thead th {\n",
       "        text-align: right;\n",
       "    }\n",
       "</style>\n",
       "<table border=\"1\" class=\"dataframe\">\n",
       "  <thead>\n",
       "    <tr style=\"text-align: right;\">\n",
       "      <th></th>\n",
       "      <th>Name</th>\n",
       "      <th>Name of the text file</th>\n",
       "    </tr>\n",
       "  </thead>\n",
       "  <tbody>\n",
       "    <tr>\n",
       "      <th>0</th>\n",
       "      <td>THOMAS B. SEEKER</td>\n",
       "      <td>Thomas_resume</td>\n",
       "    </tr>\n",
       "    <tr>\n",
       "      <th>1</th>\n",
       "      <td>JOSH K. SCOTT</td>\n",
       "      <td>Josh_resume</td>\n",
       "    </tr>\n",
       "    <tr>\n",
       "      <th>2</th>\n",
       "      <td>SVETLANA KON</td>\n",
       "      <td>Kon_resume</td>\n",
       "    </tr>\n",
       "    <tr>\n",
       "      <th>3</th>\n",
       "      <td>PURSA TANEEPAN</td>\n",
       "      <td>Pursa_resume</td>\n",
       "    </tr>\n",
       "    <tr>\n",
       "      <th>4</th>\n",
       "      <td>IGOR KORICANAC</td>\n",
       "      <td>Igor_resume</td>\n",
       "    </tr>\n",
       "    <tr>\n",
       "      <th>6</th>\n",
       "      <td>PAT SRISITTIDECH</td>\n",
       "      <td>Pat_resume</td>\n",
       "    </tr>\n",
       "    <tr>\n",
       "      <th>7</th>\n",
       "      <td>MARIA TANNER</td>\n",
       "      <td>Maria_resume</td>\n",
       "    </tr>\n",
       "    <tr>\n",
       "      <th>8</th>\n",
       "      <td>GRACE PINKERTON</td>\n",
       "      <td>Grace_resume</td>\n",
       "    </tr>\n",
       "    <tr>\n",
       "      <th>9</th>\n",
       "      <td>AMY JONES</td>\n",
       "      <td>Amy_resume</td>\n",
       "    </tr>\n",
       "    <tr>\n",
       "      <th>11</th>\n",
       "      <td>DAPHNE WRIGHT</td>\n",
       "      <td>Daphne_resume</td>\n",
       "    </tr>\n",
       "    <tr>\n",
       "      <th>12</th>\n",
       "      <td>CATHERINE DRUMMOND</td>\n",
       "      <td>Cat_resume</td>\n",
       "    </tr>\n",
       "    <tr>\n",
       "      <th>13</th>\n",
       "      <td>MARIE ANDERSON</td>\n",
       "      <td>Marie_resume</td>\n",
       "    </tr>\n",
       "    <tr>\n",
       "      <th>14</th>\n",
       "      <td>DANA LOWELL</td>\n",
       "      <td>Dana_resume</td>\n",
       "    </tr>\n",
       "    <tr>\n",
       "      <th>15</th>\n",
       "      <td>PEYTON A. GARRETT</td>\n",
       "      <td>Peyton_resume</td>\n",
       "    </tr>\n",
       "    <tr>\n",
       "      <th>16</th>\n",
       "      <td>CARLA FOSTER</td>\n",
       "      <td>Carla_resume</td>\n",
       "    </tr>\n",
       "  </tbody>\n",
       "</table>\n",
       "</div>"
      ],
      "text/plain": [
       "                  Name Name of the text file\n",
       "0     THOMAS B. SEEKER         Thomas_resume\n",
       "1        JOSH K. SCOTT           Josh_resume\n",
       "2         SVETLANA KON            Kon_resume\n",
       "3       PURSA TANEEPAN          Pursa_resume\n",
       "4       IGOR KORICANAC           Igor_resume\n",
       "6    PAT SRISITTIDECH             Pat_resume\n",
       "7         MARIA TANNER          Maria_resume\n",
       "8      GRACE PINKERTON          Grace_resume\n",
       "9            AMY JONES            Amy_resume\n",
       "11       DAPHNE WRIGHT         Daphne_resume\n",
       "12  CATHERINE DRUMMOND            Cat_resume\n",
       "13      MARIE ANDERSON          Marie_resume\n",
       "14         DANA LOWELL           Dana_resume\n",
       "15   PEYTON A. GARRETT         Peyton_resume\n",
       "16        CARLA FOSTER          Carla_resume"
      ]
     },
     "execution_count": 7,
     "metadata": {},
     "output_type": "execute_result"
    }
   ],
   "source": [
    "df = df.dropna()\n",
    "df"
   ]
  },
  {
   "cell_type": "markdown",
   "metadata": {},
   "source": [
    "Count total rows in dataframe"
   ]
  },
  {
   "cell_type": "code",
   "execution_count": 8,
   "metadata": {},
   "outputs": [
    {
     "data": {
      "text/plain": [
       "15"
      ]
     },
     "execution_count": 8,
     "metadata": {},
     "output_type": "execute_result"
    }
   ],
   "source": [
    "len(df)"
   ]
  },
  {
   "cell_type": "markdown",
   "metadata": {},
   "source": [
    "After I clean the data, the total number of the candidates is 15. Now we have 15 resumes in our system."
   ]
  },
  {
   "cell_type": "markdown",
   "metadata": {},
   "source": [
    "## Job Description"
   ]
  },
  {
   "cell_type": "markdown",
   "metadata": {},
   "source": [
    "First, I open and read the Job_description.txt file"
   ]
  },
  {
   "cell_type": "code",
   "execution_count": 9,
   "metadata": {},
   "outputs": [
    {
     "name": "stdout",
     "output_type": "stream",
     "text": [
      "Job Description\n",
      "This role offers a unique opportunity to innovate and improve PayPal’s Data Science capabilities for Global Customer Operations.\n",
      "PayPal’s Global Data Sciences team is responsible for developing and enhancing machine learning and data mining capabilities, which are key in PayPal’s top-of-the-line data-driven decisions. We are a group of data scientists and problem solvers with strong analytical, mathematical, and programming skills and like to approach various kinds of challenges in complex environments. This role offers a unique opportunity to innovate and improve PayPal’s Data Science capabilities for Global Customer Operations, such as NLP and chatbot.\n",
      "Design, develop and implement advanced predictive models using advanced data mining and machine learning techniques\n",
      "Collaborate with other data scientists and engineers to formulate innovative solutions to experiment and implement advanced data mining techniques\n",
      "Work with large volumes of data; extract and manipulate large datasets using standard tools such as Python, Hadoop, R, SQL and SAS\n",
      "Analyze data covering a wide range of information from user profile to transaction history. Identify new customer behavior patterns through data mining\n",
      "Communicate complex concepts and the results of the analyses in a clear and effective manner through creative visualization\n",
      "Qualification\n",
      "Advanced degree (MS or PhD) in science or engineering field. Level will be determined based on experience.\n",
      "Expertise developing natural language processing/understanding algorithms/models required.\n",
      "Expertise applying deep learning techniques to NLP/U problems required including thorough knowledge of the theory and practice of NLP and deep learning techniques.\n",
      "Data Mining experience in Python, R, H2O, Scala and/or other Big Data techniques. Familiar with various Machine Learning algorithms and Statistical methods\n",
      "Skilled with Java, C++, or other programming language, as well as with R, MATLAB, Python or similar scripting language;\n",
      "Ability to deal with a large amount of data and fluency with SQL or SQL-like tools\n",
      "Strong problem solving and communication skills\n",
      "Passion in working on big data and professional experience in data mining, statistical analysis, predictive modeling, NLP, and data manipulation\n",
      "Data Science experience in Customer Services is a strong plus\n",
      "Skills required\n",
      "Data mining\n",
      "Statistical analysis\n",
      "Predictive modeling\n",
      "Data manipulation\n",
      "Machine learning\n",
      "NLP\n",
      "UNIX\n",
      "Python\n",
      "JAVA\n",
      "C++\n",
      "Hadoop\n",
      "R\n",
      "MATLAB\n",
      "SQL\n",
      "SAS\n",
      "SQL\n",
      "H2O\n",
      "Big data"
     ]
    }
   ],
   "source": [
    "with open (\"Job_description.txt\", \"r\") as jd:\n",
    "    for line in jd:\n",
    "        print(line, end = \"\")"
   ]
  },
  {
   "cell_type": "markdown",
   "metadata": {},
   "source": [
    "Next, I want to extract a list of skills required from job description to gather the required skills."
   ]
  },
  {
   "cell_type": "markdown",
   "metadata": {},
   "source": [
    "In order to gain the required skills from job description, I open the file and print all the lines in a file after a pattern 'Skills required'. "
   ]
  },
  {
   "cell_type": "code",
   "execution_count": 10,
   "metadata": {},
   "outputs": [
    {
     "name": "stdout",
     "output_type": "stream",
     "text": [
      "['Data mining', 'Statistical analysis', 'Predictive modeling', 'Data manipulation', 'Machine learning', 'NLP', 'UNIX', 'Python', 'JAVA', 'C++', 'Hadoop', 'R', 'MATLAB', 'SQL', 'SAS', 'SQL', 'H2O', 'Big data']\n"
     ]
    }
   ],
   "source": [
    "with open(\"Job_description.txt\", \"r\") as f:\n",
    "    while 'Skills required' not in f.readline():\n",
    "        continue\n",
    "    print(f.read().split('\\n'))"
   ]
  },
  {
   "cell_type": "markdown",
   "metadata": {},
   "source": [
    "Now I have a list of all the skills required that are in the job description file."
   ]
  },
  {
   "cell_type": "markdown",
   "metadata": {},
   "source": [
    "## Skill matching"
   ]
  },
  {
   "cell_type": "markdown",
   "metadata": {},
   "source": [
    "I try this out by matching skills in Thomas's resume with skills from job description and count the number of matches."
   ]
  },
  {
   "cell_type": "code",
   "execution_count": 13,
   "metadata": {},
   "outputs": [
    {
     "name": "stdout",
     "output_type": "stream",
     "text": [
      "There are 3 skills matched in Thomas's resume.\n"
     ]
    }
   ],
   "source": [
    "with open(\"Thomas_resume.txt\", \"r\", encoding=\"utf8\") as fd:\n",
    "    # Turn everthing into lower case \n",
    "    l = fd.read().lower()\n",
    "    # Use regular expression to match skills with candidates\n",
    "    match = re.findall('sql|unix|c\\+\\+',l)\n",
    "    # Count the total matched skills for each candidate\n",
    "    #print (set(match))\n",
    "    print(\"There are \" + str(len(set(match))) + \" skills matched in Thomas's resume.\")\n",
    "        "
   ]
  },
  {
   "cell_type": "markdown",
   "metadata": {},
   "source": [
    "Now my code is ready to apply for all the candidates."
   ]
  },
  {
   "cell_type": "markdown",
   "metadata": {},
   "source": [
    "I loop through the Candidates.csv file to identify candidates who fit for the role (exact fit for skill matching) by counting number of matching skills that appear in their resume."
   ]
  },
  {
   "cell_type": "code",
   "execution_count": 130,
   "metadata": {},
   "outputs": [],
   "source": [
    "resume_file = df[\"Name of the text file\"] + \".txt\"\n",
    "score = []\n",
    "for element in resume_file:\n",
    "    with open(element, \"r\", encoding=\"utf8\") as fd:\n",
    "        # Turn everthing into lower case \n",
    "        l = fd.read().lower()\n",
    "        # Use regular expression to match skills with candidates\n",
    "        match = re.findall('sql|unix|c\\+\\+|sas|r|java|data mining|statistical analysis|big data',l)\n",
    "        # Count the total matched skills for each candidate\n",
    "        ## print(len(set(match))) \n",
    "        score.append(len(set(match)))"
   ]
  },
  {
   "cell_type": "markdown",
   "metadata": {},
   "source": [
    "Below score is the number of skill matching in each candidate resume."
   ]
  },
  {
   "cell_type": "code",
   "execution_count": 131,
   "metadata": {},
   "outputs": [
    {
     "data": {
      "text/plain": [
       "[4, 5, 2, 1, 1, 1, 6, 6, 4, 1, 5, 2, 6, 2, 1]"
      ]
     },
     "execution_count": 131,
     "metadata": {},
     "output_type": "execute_result"
    }
   ],
   "source": [
    "score"
   ]
  },
  {
   "cell_type": "markdown",
   "metadata": {},
   "source": [
    "I create a dataframe that contains information about each candidate (Name ,Name of the resume file, and skill matching score)"
   ]
  },
  {
   "cell_type": "code",
   "execution_count": 132,
   "metadata": {},
   "outputs": [
    {
     "name": "stderr",
     "output_type": "stream",
     "text": [
      "/Users/natnicha/anaconda3/lib/python3.7/site-packages/ipykernel_launcher.py:2: SettingWithCopyWarning: \n",
      "A value is trying to be set on a copy of a slice from a DataFrame.\n",
      "Try using .loc[row_indexer,col_indexer] = value instead\n",
      "\n",
      "See the caveats in the documentation: http://pandas.pydata.org/pandas-docs/stable/indexing.html#indexing-view-versus-copy\n",
      "  \n"
     ]
    },
    {
     "data": {
      "text/html": [
       "<div>\n",
       "<style scoped>\n",
       "    .dataframe tbody tr th:only-of-type {\n",
       "        vertical-align: middle;\n",
       "    }\n",
       "\n",
       "    .dataframe tbody tr th {\n",
       "        vertical-align: top;\n",
       "    }\n",
       "\n",
       "    .dataframe thead th {\n",
       "        text-align: right;\n",
       "    }\n",
       "</style>\n",
       "<table border=\"1\" class=\"dataframe\">\n",
       "  <thead>\n",
       "    <tr style=\"text-align: right;\">\n",
       "      <th></th>\n",
       "      <th>Name</th>\n",
       "      <th>Name of the text file</th>\n",
       "      <th>Matched skill</th>\n",
       "    </tr>\n",
       "  </thead>\n",
       "  <tbody>\n",
       "    <tr>\n",
       "      <th>0</th>\n",
       "      <td>THOMAS B. SEEKER</td>\n",
       "      <td>Thomas_resume</td>\n",
       "      <td>4</td>\n",
       "    </tr>\n",
       "    <tr>\n",
       "      <th>1</th>\n",
       "      <td>JOSH K. SCOTT</td>\n",
       "      <td>Josh_resume</td>\n",
       "      <td>5</td>\n",
       "    </tr>\n",
       "    <tr>\n",
       "      <th>2</th>\n",
       "      <td>SVETLANA KON</td>\n",
       "      <td>Kon_resume</td>\n",
       "      <td>2</td>\n",
       "    </tr>\n",
       "    <tr>\n",
       "      <th>3</th>\n",
       "      <td>PURSA TANEEPAN</td>\n",
       "      <td>Pursa_resume</td>\n",
       "      <td>1</td>\n",
       "    </tr>\n",
       "    <tr>\n",
       "      <th>4</th>\n",
       "      <td>IGOR KORICANAC</td>\n",
       "      <td>Igor_resume</td>\n",
       "      <td>1</td>\n",
       "    </tr>\n",
       "    <tr>\n",
       "      <th>6</th>\n",
       "      <td>PAT SRISITTIDECH</td>\n",
       "      <td>Pat_resume</td>\n",
       "      <td>1</td>\n",
       "    </tr>\n",
       "    <tr>\n",
       "      <th>7</th>\n",
       "      <td>MARIA TANNER</td>\n",
       "      <td>Maria_resume</td>\n",
       "      <td>6</td>\n",
       "    </tr>\n",
       "    <tr>\n",
       "      <th>8</th>\n",
       "      <td>GRACE PINKERTON</td>\n",
       "      <td>Grace_resume</td>\n",
       "      <td>6</td>\n",
       "    </tr>\n",
       "    <tr>\n",
       "      <th>9</th>\n",
       "      <td>AMY JONES</td>\n",
       "      <td>Amy_resume</td>\n",
       "      <td>4</td>\n",
       "    </tr>\n",
       "    <tr>\n",
       "      <th>11</th>\n",
       "      <td>DAPHNE WRIGHT</td>\n",
       "      <td>Daphne_resume</td>\n",
       "      <td>1</td>\n",
       "    </tr>\n",
       "    <tr>\n",
       "      <th>12</th>\n",
       "      <td>CATHERINE DRUMMOND</td>\n",
       "      <td>Cat_resume</td>\n",
       "      <td>5</td>\n",
       "    </tr>\n",
       "    <tr>\n",
       "      <th>13</th>\n",
       "      <td>MARIE ANDERSON</td>\n",
       "      <td>Marie_resume</td>\n",
       "      <td>2</td>\n",
       "    </tr>\n",
       "    <tr>\n",
       "      <th>14</th>\n",
       "      <td>DANA LOWELL</td>\n",
       "      <td>Dana_resume</td>\n",
       "      <td>6</td>\n",
       "    </tr>\n",
       "    <tr>\n",
       "      <th>15</th>\n",
       "      <td>PEYTON A. GARRETT</td>\n",
       "      <td>Peyton_resume</td>\n",
       "      <td>2</td>\n",
       "    </tr>\n",
       "    <tr>\n",
       "      <th>16</th>\n",
       "      <td>CARLA FOSTER</td>\n",
       "      <td>Carla_resume</td>\n",
       "      <td>1</td>\n",
       "    </tr>\n",
       "  </tbody>\n",
       "</table>\n",
       "</div>"
      ],
      "text/plain": [
       "                  Name Name of the text file  Matched skill\n",
       "0     THOMAS B. SEEKER         Thomas_resume              4\n",
       "1        JOSH K. SCOTT           Josh_resume              5\n",
       "2         SVETLANA KON            Kon_resume              2\n",
       "3       PURSA TANEEPAN          Pursa_resume              1\n",
       "4       IGOR KORICANAC           Igor_resume              1\n",
       "6    PAT SRISITTIDECH             Pat_resume              1\n",
       "7         MARIA TANNER          Maria_resume              6\n",
       "8      GRACE PINKERTON          Grace_resume              6\n",
       "9            AMY JONES            Amy_resume              4\n",
       "11       DAPHNE WRIGHT         Daphne_resume              1\n",
       "12  CATHERINE DRUMMOND            Cat_resume              5\n",
       "13      MARIE ANDERSON          Marie_resume              2\n",
       "14         DANA LOWELL           Dana_resume              6\n",
       "15   PEYTON A. GARRETT         Peyton_resume              2\n",
       "16        CARLA FOSTER          Carla_resume              1"
      ]
     },
     "execution_count": 132,
     "metadata": {},
     "output_type": "execute_result"
    }
   ],
   "source": [
    "c_score = df\n",
    "c_score[\"Matched skill\"] = score\n",
    "c_score"
   ]
  },
  {
   "cell_type": "markdown",
   "metadata": {},
   "source": [
    "Sorting data frame by matched skill score in descending order"
   ]
  },
  {
   "cell_type": "code",
   "execution_count": 133,
   "metadata": {},
   "outputs": [
    {
     "data": {
      "text/html": [
       "<div>\n",
       "<style scoped>\n",
       "    .dataframe tbody tr th:only-of-type {\n",
       "        vertical-align: middle;\n",
       "    }\n",
       "\n",
       "    .dataframe tbody tr th {\n",
       "        vertical-align: top;\n",
       "    }\n",
       "\n",
       "    .dataframe thead th {\n",
       "        text-align: right;\n",
       "    }\n",
       "</style>\n",
       "<table border=\"1\" class=\"dataframe\">\n",
       "  <thead>\n",
       "    <tr style=\"text-align: right;\">\n",
       "      <th></th>\n",
       "      <th>Name</th>\n",
       "      <th>Name of the text file</th>\n",
       "      <th>Matched skill</th>\n",
       "    </tr>\n",
       "  </thead>\n",
       "  <tbody>\n",
       "    <tr>\n",
       "      <th>7</th>\n",
       "      <td>MARIA TANNER</td>\n",
       "      <td>Maria_resume</td>\n",
       "      <td>6</td>\n",
       "    </tr>\n",
       "    <tr>\n",
       "      <th>8</th>\n",
       "      <td>GRACE PINKERTON</td>\n",
       "      <td>Grace_resume</td>\n",
       "      <td>6</td>\n",
       "    </tr>\n",
       "    <tr>\n",
       "      <th>14</th>\n",
       "      <td>DANA LOWELL</td>\n",
       "      <td>Dana_resume</td>\n",
       "      <td>6</td>\n",
       "    </tr>\n",
       "    <tr>\n",
       "      <th>1</th>\n",
       "      <td>JOSH K. SCOTT</td>\n",
       "      <td>Josh_resume</td>\n",
       "      <td>5</td>\n",
       "    </tr>\n",
       "    <tr>\n",
       "      <th>12</th>\n",
       "      <td>CATHERINE DRUMMOND</td>\n",
       "      <td>Cat_resume</td>\n",
       "      <td>5</td>\n",
       "    </tr>\n",
       "    <tr>\n",
       "      <th>0</th>\n",
       "      <td>THOMAS B. SEEKER</td>\n",
       "      <td>Thomas_resume</td>\n",
       "      <td>4</td>\n",
       "    </tr>\n",
       "    <tr>\n",
       "      <th>9</th>\n",
       "      <td>AMY JONES</td>\n",
       "      <td>Amy_resume</td>\n",
       "      <td>4</td>\n",
       "    </tr>\n",
       "    <tr>\n",
       "      <th>2</th>\n",
       "      <td>SVETLANA KON</td>\n",
       "      <td>Kon_resume</td>\n",
       "      <td>2</td>\n",
       "    </tr>\n",
       "    <tr>\n",
       "      <th>13</th>\n",
       "      <td>MARIE ANDERSON</td>\n",
       "      <td>Marie_resume</td>\n",
       "      <td>2</td>\n",
       "    </tr>\n",
       "    <tr>\n",
       "      <th>15</th>\n",
       "      <td>PEYTON A. GARRETT</td>\n",
       "      <td>Peyton_resume</td>\n",
       "      <td>2</td>\n",
       "    </tr>\n",
       "    <tr>\n",
       "      <th>3</th>\n",
       "      <td>PURSA TANEEPAN</td>\n",
       "      <td>Pursa_resume</td>\n",
       "      <td>1</td>\n",
       "    </tr>\n",
       "    <tr>\n",
       "      <th>4</th>\n",
       "      <td>IGOR KORICANAC</td>\n",
       "      <td>Igor_resume</td>\n",
       "      <td>1</td>\n",
       "    </tr>\n",
       "    <tr>\n",
       "      <th>6</th>\n",
       "      <td>PAT SRISITTIDECH</td>\n",
       "      <td>Pat_resume</td>\n",
       "      <td>1</td>\n",
       "    </tr>\n",
       "    <tr>\n",
       "      <th>11</th>\n",
       "      <td>DAPHNE WRIGHT</td>\n",
       "      <td>Daphne_resume</td>\n",
       "      <td>1</td>\n",
       "    </tr>\n",
       "    <tr>\n",
       "      <th>16</th>\n",
       "      <td>CARLA FOSTER</td>\n",
       "      <td>Carla_resume</td>\n",
       "      <td>1</td>\n",
       "    </tr>\n",
       "  </tbody>\n",
       "</table>\n",
       "</div>"
      ],
      "text/plain": [
       "                  Name Name of the text file  Matched skill\n",
       "7         MARIA TANNER          Maria_resume              6\n",
       "8      GRACE PINKERTON          Grace_resume              6\n",
       "14         DANA LOWELL           Dana_resume              6\n",
       "1        JOSH K. SCOTT           Josh_resume              5\n",
       "12  CATHERINE DRUMMOND            Cat_resume              5\n",
       "0     THOMAS B. SEEKER         Thomas_resume              4\n",
       "9            AMY JONES            Amy_resume              4\n",
       "2         SVETLANA KON            Kon_resume              2\n",
       "13      MARIE ANDERSON          Marie_resume              2\n",
       "15   PEYTON A. GARRETT         Peyton_resume              2\n",
       "3       PURSA TANEEPAN          Pursa_resume              1\n",
       "4       IGOR KORICANAC           Igor_resume              1\n",
       "6    PAT SRISITTIDECH             Pat_resume              1\n",
       "11       DAPHNE WRIGHT         Daphne_resume              1\n",
       "16        CARLA FOSTER          Carla_resume              1"
      ]
     },
     "execution_count": 133,
     "metadata": {},
     "output_type": "execute_result"
    }
   ],
   "source": [
    "df1 = c_score.sort_values([\"Matched skill\"], ascending=False) \n",
    "df1"
   ]
  },
  {
   "cell_type": "markdown",
   "metadata": {},
   "source": [
    "The canididates are ranked according to their skills and characteristics that most fit the job description."
   ]
  },
  {
   "cell_type": "markdown",
   "metadata": {},
   "source": [
    "## Final Result"
   ]
  },
  {
   "cell_type": "markdown",
   "metadata": {},
   "source": [
    "Then, I select only top 5 candidates who have the most number of matched skills."
   ]
  },
  {
   "cell_type": "code",
   "execution_count": 134,
   "metadata": {},
   "outputs": [
    {
     "data": {
      "text/html": [
       "<div>\n",
       "<style scoped>\n",
       "    .dataframe tbody tr th:only-of-type {\n",
       "        vertical-align: middle;\n",
       "    }\n",
       "\n",
       "    .dataframe tbody tr th {\n",
       "        vertical-align: top;\n",
       "    }\n",
       "\n",
       "    .dataframe thead th {\n",
       "        text-align: right;\n",
       "    }\n",
       "</style>\n",
       "<table border=\"1\" class=\"dataframe\">\n",
       "  <thead>\n",
       "    <tr style=\"text-align: right;\">\n",
       "      <th></th>\n",
       "      <th>Name</th>\n",
       "      <th>Name of the text file</th>\n",
       "      <th>Matched skill</th>\n",
       "    </tr>\n",
       "  </thead>\n",
       "  <tbody>\n",
       "    <tr>\n",
       "      <th>7</th>\n",
       "      <td>MARIA TANNER</td>\n",
       "      <td>Maria_resume</td>\n",
       "      <td>6</td>\n",
       "    </tr>\n",
       "    <tr>\n",
       "      <th>8</th>\n",
       "      <td>GRACE PINKERTON</td>\n",
       "      <td>Grace_resume</td>\n",
       "      <td>6</td>\n",
       "    </tr>\n",
       "    <tr>\n",
       "      <th>14</th>\n",
       "      <td>DANA LOWELL</td>\n",
       "      <td>Dana_resume</td>\n",
       "      <td>6</td>\n",
       "    </tr>\n",
       "    <tr>\n",
       "      <th>1</th>\n",
       "      <td>JOSH K. SCOTT</td>\n",
       "      <td>Josh_resume</td>\n",
       "      <td>5</td>\n",
       "    </tr>\n",
       "    <tr>\n",
       "      <th>12</th>\n",
       "      <td>CATHERINE DRUMMOND</td>\n",
       "      <td>Cat_resume</td>\n",
       "      <td>5</td>\n",
       "    </tr>\n",
       "  </tbody>\n",
       "</table>\n",
       "</div>"
      ],
      "text/plain": [
       "                  Name Name of the text file  Matched skill\n",
       "7         MARIA TANNER          Maria_resume              6\n",
       "8      GRACE PINKERTON          Grace_resume              6\n",
       "14         DANA LOWELL           Dana_resume              6\n",
       "1        JOSH K. SCOTT           Josh_resume              5\n",
       "12  CATHERINE DRUMMOND            Cat_resume              5"
      ]
     },
     "execution_count": 134,
     "metadata": {},
     "output_type": "execute_result"
    }
   ],
   "source": [
    "df2 = df1.head(5)\n",
    "df2"
   ]
  },
  {
   "cell_type": "markdown",
   "metadata": {},
   "source": [
    "After the screening of 15 candidates in our system, these 5 candidates are most qualified for the interview. Now I have a list of the 5 most fit candidates in order of priority (the most fit first) with their most salient characteristics. "
   ]
  },
  {
   "cell_type": "markdown",
   "metadata": {},
   "source": [
    "Finally, I will write a list of 5 most fit candidates in my data frame to a CSV file called ToInterview.csv"
   ]
  },
  {
   "cell_type": "code",
   "execution_count": 138,
   "metadata": {},
   "outputs": [],
   "source": [
    "with open('ToInterview.csv', 'a') as file:\n",
    "    df2.to_csv(file, mode='a', encoding='utf-8', index=False)"
   ]
  },
  {
   "cell_type": "code",
   "execution_count": 172,
   "metadata": {},
   "outputs": [
    {
     "data": {
      "text/html": [
       "<div>\n",
       "<style scoped>\n",
       "    .dataframe tbody tr th:only-of-type {\n",
       "        vertical-align: middle;\n",
       "    }\n",
       "\n",
       "    .dataframe tbody tr th {\n",
       "        vertical-align: top;\n",
       "    }\n",
       "\n",
       "    .dataframe thead th {\n",
       "        text-align: right;\n",
       "    }\n",
       "</style>\n",
       "<table border=\"1\" class=\"dataframe\">\n",
       "  <thead>\n",
       "    <tr style=\"text-align: right;\">\n",
       "      <th></th>\n",
       "      <th>Name</th>\n",
       "      <th>Name of the text file</th>\n",
       "      <th>Matched skill</th>\n",
       "    </tr>\n",
       "  </thead>\n",
       "  <tbody>\n",
       "    <tr>\n",
       "      <th>0</th>\n",
       "      <td>MARIA TANNER</td>\n",
       "      <td>Maria_resume</td>\n",
       "      <td>6</td>\n",
       "    </tr>\n",
       "    <tr>\n",
       "      <th>1</th>\n",
       "      <td>GRACE PINKERTON</td>\n",
       "      <td>Grace_resume</td>\n",
       "      <td>6</td>\n",
       "    </tr>\n",
       "    <tr>\n",
       "      <th>2</th>\n",
       "      <td>DANA LOWELL</td>\n",
       "      <td>Dana_resume</td>\n",
       "      <td>6</td>\n",
       "    </tr>\n",
       "    <tr>\n",
       "      <th>3</th>\n",
       "      <td>JOSH K. SCOTT</td>\n",
       "      <td>Josh_resume</td>\n",
       "      <td>5</td>\n",
       "    </tr>\n",
       "    <tr>\n",
       "      <th>4</th>\n",
       "      <td>CATHERINE DRUMMOND</td>\n",
       "      <td>Cat_resume</td>\n",
       "      <td>5</td>\n",
       "    </tr>\n",
       "  </tbody>\n",
       "</table>\n",
       "</div>"
      ],
      "text/plain": [
       "                 Name Name of the text file  Matched skill\n",
       "0        MARIA TANNER          Maria_resume              6\n",
       "1     GRACE PINKERTON          Grace_resume              6\n",
       "2         DANA LOWELL           Dana_resume              6\n",
       "3       JOSH K. SCOTT           Josh_resume              5\n",
       "4  CATHERINE DRUMMOND            Cat_resume              5"
      ]
     },
     "execution_count": 172,
     "metadata": {},
     "output_type": "execute_result"
    }
   ],
   "source": [
    "pd.read_csv(\"ToInterview.csv\")"
   ]
  }
 ],
 "metadata": {
  "kernelspec": {
   "display_name": "Python 3",
   "language": "python",
   "name": "python3"
  },
  "language_info": {
   "codemirror_mode": {
    "name": "ipython",
    "version": 3
   },
   "file_extension": ".py",
   "mimetype": "text/x-python",
   "name": "python",
   "nbconvert_exporter": "python",
   "pygments_lexer": "ipython3",
   "version": "3.7.3"
  }
 },
 "nbformat": 4,
 "nbformat_minor": 2
}
