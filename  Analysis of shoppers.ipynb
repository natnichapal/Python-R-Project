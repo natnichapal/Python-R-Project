{
 "cells": [
  {
   "cell_type": "markdown",
   "metadata": {},
   "source": [
    "# Natnicha Palakawong na ayuthaya"
   ]
  },
  {
   "cell_type": "markdown",
   "metadata": {},
   "source": [
    "# <font color='red'> Analysis of shoppers to help Amazon reach its target market efficiently"
   ]
  },
  {
   "cell_type": "code",
   "execution_count": 1,
   "metadata": {},
   "outputs": [],
   "source": [
    "features <- read.csv('/Users/Natnicha/Desktop/retail-data-analytics/Features-dataset.csv', stringsAsFactors = F)\n",
    "sales <- read.csv('/Users/Natnicha/Desktop/retail-data-analytics/sales-dataset.csv', stringsAsFactors = F)\n",
    "stores <- read.csv('/Users/Natnicha/Desktop/retail-data-analytics/stores-dataset.csv', stringsAsFactors = F)"
   ]
  },
  {
   "cell_type": "markdown",
   "metadata": {},
   "source": [
    "1. [Objective of the Project](#head1)\n",
    "2. [Data Exploration](#head2)\n",
    "3. [Merg](#head3)\n",
    "4. [Simple Linear Regression](#head4)\n",
    "5. [Model Comparison](#head5)\n",
    "6. [Multiple Linear Regression](#head6)\n",
    "7. [Summary](#head8)\n",
    "8. [Recommendation](#head9)"
   ]
  },
  {
   "cell_type": "markdown",
   "metadata": {},
   "source": [
    "## <a id=\"head1\"></a><font color='blue'> 1) Objective of the Project"
   ]
  },
  {
   "cell_type": "markdown",
   "metadata": {},
   "source": [
    "Amazon is the world’s largest online retailer that offers a variety of product lines and services to customers. Amazon Prime is a subscription service that gives members access to a variety of features. Members receive benefits which include Amazon Prime Video, free 1 or 2-day shipping, unlimited reading, shopping exclusive deals on Amazon Prime Day, and a variety of other Amazon-specific services. Amazon Prime member is constantly growing in the United States because it is very convenient for members to purchase products from Amazon and gain access to all the services. \n",
    "\n",
    "The aim of this project is to develop the most comprehensive analysis of the shoppers using the historical sales data from the Retail Data Analytics dataset from Kaggle. By analyzing this dataset, Amazon will be able to understand its target market better and make smarter decisions in marketing.\n",
    "\n",
    "The linear regression model will pool data together to help Amazon make informed decisions. The model will show Amazon how well each factor can predict the weekly sales, so that Amazon can decide on marketing strategies, and also maximize its marketing resources to improve the sales. This project could help Amazon acquire new customers and increase the sales and profit by analyzing the important factors that influence consumer spending. \n"
   ]
  },
  {
   "cell_type": "markdown",
   "metadata": {},
   "source": [
    "## <a id=\"head2\"></a><font color='blue'> 2) Data Exploration"
   ]
  },
  {
   "cell_type": "markdown",
   "metadata": {},
   "source": [
    "<b> 2.1) Print out the first 10 rows of dataset.</b>"
   ]
  },
  {
   "cell_type": "code",
   "execution_count": 2,
   "metadata": {},
   "outputs": [
    {
     "data": {
      "text/html": [
       "<table>\n",
       "<caption>A data.frame: 10 × 12</caption>\n",
       "<thead>\n",
       "\t<tr><th scope=col>Store</th><th scope=col>Date</th><th scope=col>Temperature</th><th scope=col>Fuel_Price</th><th scope=col>MarkDown1</th><th scope=col>MarkDown2</th><th scope=col>MarkDown3</th><th scope=col>MarkDown4</th><th scope=col>MarkDown5</th><th scope=col>CPI</th><th scope=col>Unemployment</th><th scope=col>IsHoliday</th></tr>\n",
       "\t<tr><th scope=col>&lt;int&gt;</th><th scope=col>&lt;chr&gt;</th><th scope=col>&lt;dbl&gt;</th><th scope=col>&lt;dbl&gt;</th><th scope=col>&lt;dbl&gt;</th><th scope=col>&lt;dbl&gt;</th><th scope=col>&lt;dbl&gt;</th><th scope=col>&lt;dbl&gt;</th><th scope=col>&lt;dbl&gt;</th><th scope=col>&lt;dbl&gt;</th><th scope=col>&lt;dbl&gt;</th><th scope=col>&lt;lgl&gt;</th></tr>\n",
       "</thead>\n",
       "<tbody>\n",
       "\t<tr><td>1</td><td>05/02/2010</td><td>42.31</td><td>2.572</td><td>NA</td><td>NA</td><td>NA</td><td>NA</td><td>NA</td><td>211.0964</td><td>8.106</td><td>FALSE</td></tr>\n",
       "\t<tr><td>1</td><td>12/02/2010</td><td>38.51</td><td>2.548</td><td>NA</td><td>NA</td><td>NA</td><td>NA</td><td>NA</td><td>211.2422</td><td>8.106</td><td> TRUE</td></tr>\n",
       "\t<tr><td>1</td><td>19/02/2010</td><td>39.93</td><td>2.514</td><td>NA</td><td>NA</td><td>NA</td><td>NA</td><td>NA</td><td>211.2891</td><td>8.106</td><td>FALSE</td></tr>\n",
       "\t<tr><td>1</td><td>26/02/2010</td><td>46.63</td><td>2.561</td><td>NA</td><td>NA</td><td>NA</td><td>NA</td><td>NA</td><td>211.3196</td><td>8.106</td><td>FALSE</td></tr>\n",
       "\t<tr><td>1</td><td>05/03/2010</td><td>46.50</td><td>2.625</td><td>NA</td><td>NA</td><td>NA</td><td>NA</td><td>NA</td><td>211.3501</td><td>8.106</td><td>FALSE</td></tr>\n",
       "\t<tr><td>1</td><td>12/03/2010</td><td>57.79</td><td>2.667</td><td>NA</td><td>NA</td><td>NA</td><td>NA</td><td>NA</td><td>211.3806</td><td>8.106</td><td>FALSE</td></tr>\n",
       "\t<tr><td>1</td><td>19/03/2010</td><td>54.58</td><td>2.720</td><td>NA</td><td>NA</td><td>NA</td><td>NA</td><td>NA</td><td>211.2156</td><td>8.106</td><td>FALSE</td></tr>\n",
       "\t<tr><td>1</td><td>26/03/2010</td><td>51.45</td><td>2.732</td><td>NA</td><td>NA</td><td>NA</td><td>NA</td><td>NA</td><td>211.0180</td><td>8.106</td><td>FALSE</td></tr>\n",
       "\t<tr><td>1</td><td>02/04/2010</td><td>62.27</td><td>2.719</td><td>NA</td><td>NA</td><td>NA</td><td>NA</td><td>NA</td><td>210.8204</td><td>7.808</td><td>FALSE</td></tr>\n",
       "\t<tr><td>1</td><td>09/04/2010</td><td>65.86</td><td>2.770</td><td>NA</td><td>NA</td><td>NA</td><td>NA</td><td>NA</td><td>210.6229</td><td>7.808</td><td>FALSE</td></tr>\n",
       "</tbody>\n",
       "</table>\n"
      ],
      "text/latex": [
       "A data.frame: 10 × 12\n",
       "\\begin{tabular}{r|llllllllllll}\n",
       " Store & Date & Temperature & Fuel\\_Price & MarkDown1 & MarkDown2 & MarkDown3 & MarkDown4 & MarkDown5 & CPI & Unemployment & IsHoliday\\\\\n",
       " <int> & <chr> & <dbl> & <dbl> & <dbl> & <dbl> & <dbl> & <dbl> & <dbl> & <dbl> & <dbl> & <lgl>\\\\\n",
       "\\hline\n",
       "\t 1 & 05/02/2010 & 42.31 & 2.572 & NA & NA & NA & NA & NA & 211.0964 & 8.106 & FALSE\\\\\n",
       "\t 1 & 12/02/2010 & 38.51 & 2.548 & NA & NA & NA & NA & NA & 211.2422 & 8.106 &  TRUE\\\\\n",
       "\t 1 & 19/02/2010 & 39.93 & 2.514 & NA & NA & NA & NA & NA & 211.2891 & 8.106 & FALSE\\\\\n",
       "\t 1 & 26/02/2010 & 46.63 & 2.561 & NA & NA & NA & NA & NA & 211.3196 & 8.106 & FALSE\\\\\n",
       "\t 1 & 05/03/2010 & 46.50 & 2.625 & NA & NA & NA & NA & NA & 211.3501 & 8.106 & FALSE\\\\\n",
       "\t 1 & 12/03/2010 & 57.79 & 2.667 & NA & NA & NA & NA & NA & 211.3806 & 8.106 & FALSE\\\\\n",
       "\t 1 & 19/03/2010 & 54.58 & 2.720 & NA & NA & NA & NA & NA & 211.2156 & 8.106 & FALSE\\\\\n",
       "\t 1 & 26/03/2010 & 51.45 & 2.732 & NA & NA & NA & NA & NA & 211.0180 & 8.106 & FALSE\\\\\n",
       "\t 1 & 02/04/2010 & 62.27 & 2.719 & NA & NA & NA & NA & NA & 210.8204 & 7.808 & FALSE\\\\\n",
       "\t 1 & 09/04/2010 & 65.86 & 2.770 & NA & NA & NA & NA & NA & 210.6229 & 7.808 & FALSE\\\\\n",
       "\\end{tabular}\n"
      ],
      "text/markdown": [
       "\n",
       "A data.frame: 10 × 12\n",
       "\n",
       "| Store &lt;int&gt; | Date &lt;chr&gt; | Temperature &lt;dbl&gt; | Fuel_Price &lt;dbl&gt; | MarkDown1 &lt;dbl&gt; | MarkDown2 &lt;dbl&gt; | MarkDown3 &lt;dbl&gt; | MarkDown4 &lt;dbl&gt; | MarkDown5 &lt;dbl&gt; | CPI &lt;dbl&gt; | Unemployment &lt;dbl&gt; | IsHoliday &lt;lgl&gt; |\n",
       "|---|---|---|---|---|---|---|---|---|---|---|---|\n",
       "| 1 | 05/02/2010 | 42.31 | 2.572 | NA | NA | NA | NA | NA | 211.0964 | 8.106 | FALSE |\n",
       "| 1 | 12/02/2010 | 38.51 | 2.548 | NA | NA | NA | NA | NA | 211.2422 | 8.106 |  TRUE |\n",
       "| 1 | 19/02/2010 | 39.93 | 2.514 | NA | NA | NA | NA | NA | 211.2891 | 8.106 | FALSE |\n",
       "| 1 | 26/02/2010 | 46.63 | 2.561 | NA | NA | NA | NA | NA | 211.3196 | 8.106 | FALSE |\n",
       "| 1 | 05/03/2010 | 46.50 | 2.625 | NA | NA | NA | NA | NA | 211.3501 | 8.106 | FALSE |\n",
       "| 1 | 12/03/2010 | 57.79 | 2.667 | NA | NA | NA | NA | NA | 211.3806 | 8.106 | FALSE |\n",
       "| 1 | 19/03/2010 | 54.58 | 2.720 | NA | NA | NA | NA | NA | 211.2156 | 8.106 | FALSE |\n",
       "| 1 | 26/03/2010 | 51.45 | 2.732 | NA | NA | NA | NA | NA | 211.0180 | 8.106 | FALSE |\n",
       "| 1 | 02/04/2010 | 62.27 | 2.719 | NA | NA | NA | NA | NA | 210.8204 | 7.808 | FALSE |\n",
       "| 1 | 09/04/2010 | 65.86 | 2.770 | NA | NA | NA | NA | NA | 210.6229 | 7.808 | FALSE |\n",
       "\n"
      ],
      "text/plain": [
       "   Store Date       Temperature Fuel_Price MarkDown1 MarkDown2 MarkDown3\n",
       "1  1     05/02/2010 42.31       2.572      NA        NA        NA       \n",
       "2  1     12/02/2010 38.51       2.548      NA        NA        NA       \n",
       "3  1     19/02/2010 39.93       2.514      NA        NA        NA       \n",
       "4  1     26/02/2010 46.63       2.561      NA        NA        NA       \n",
       "5  1     05/03/2010 46.50       2.625      NA        NA        NA       \n",
       "6  1     12/03/2010 57.79       2.667      NA        NA        NA       \n",
       "7  1     19/03/2010 54.58       2.720      NA        NA        NA       \n",
       "8  1     26/03/2010 51.45       2.732      NA        NA        NA       \n",
       "9  1     02/04/2010 62.27       2.719      NA        NA        NA       \n",
       "10 1     09/04/2010 65.86       2.770      NA        NA        NA       \n",
       "   MarkDown4 MarkDown5 CPI      Unemployment IsHoliday\n",
       "1  NA        NA        211.0964 8.106        FALSE    \n",
       "2  NA        NA        211.2422 8.106         TRUE    \n",
       "3  NA        NA        211.2891 8.106        FALSE    \n",
       "4  NA        NA        211.3196 8.106        FALSE    \n",
       "5  NA        NA        211.3501 8.106        FALSE    \n",
       "6  NA        NA        211.3806 8.106        FALSE    \n",
       "7  NA        NA        211.2156 8.106        FALSE    \n",
       "8  NA        NA        211.0180 8.106        FALSE    \n",
       "9  NA        NA        210.8204 7.808        FALSE    \n",
       "10 NA        NA        210.6229 7.808        FALSE    "
      ]
     },
     "metadata": {},
     "output_type": "display_data"
    }
   ],
   "source": [
    "head(features, n=10)"
   ]
  },
  {
   "cell_type": "code",
   "execution_count": 3,
   "metadata": {},
   "outputs": [
    {
     "data": {
      "text/html": [
       "<table>\n",
       "<caption>A data.frame: 10 × 5</caption>\n",
       "<thead>\n",
       "\t<tr><th scope=col>Store</th><th scope=col>Dept</th><th scope=col>Date</th><th scope=col>Weekly_Sales</th><th scope=col>IsHoliday</th></tr>\n",
       "\t<tr><th scope=col>&lt;int&gt;</th><th scope=col>&lt;int&gt;</th><th scope=col>&lt;chr&gt;</th><th scope=col>&lt;dbl&gt;</th><th scope=col>&lt;lgl&gt;</th></tr>\n",
       "</thead>\n",
       "<tbody>\n",
       "\t<tr><td>1</td><td>1</td><td>05/02/2010</td><td>24924.50</td><td>FALSE</td></tr>\n",
       "\t<tr><td>1</td><td>1</td><td>12/02/2010</td><td>46039.49</td><td> TRUE</td></tr>\n",
       "\t<tr><td>1</td><td>1</td><td>19/02/2010</td><td>41595.55</td><td>FALSE</td></tr>\n",
       "\t<tr><td>1</td><td>1</td><td>26/02/2010</td><td>19403.54</td><td>FALSE</td></tr>\n",
       "\t<tr><td>1</td><td>1</td><td>05/03/2010</td><td>21827.90</td><td>FALSE</td></tr>\n",
       "\t<tr><td>1</td><td>1</td><td>12/03/2010</td><td>21043.39</td><td>FALSE</td></tr>\n",
       "\t<tr><td>1</td><td>1</td><td>19/03/2010</td><td>22136.64</td><td>FALSE</td></tr>\n",
       "\t<tr><td>1</td><td>1</td><td>26/03/2010</td><td>26229.21</td><td>FALSE</td></tr>\n",
       "\t<tr><td>1</td><td>1</td><td>02/04/2010</td><td>57258.43</td><td>FALSE</td></tr>\n",
       "\t<tr><td>1</td><td>1</td><td>09/04/2010</td><td>42960.91</td><td>FALSE</td></tr>\n",
       "</tbody>\n",
       "</table>\n"
      ],
      "text/latex": [
       "A data.frame: 10 × 5\n",
       "\\begin{tabular}{r|lllll}\n",
       " Store & Dept & Date & Weekly\\_Sales & IsHoliday\\\\\n",
       " <int> & <int> & <chr> & <dbl> & <lgl>\\\\\n",
       "\\hline\n",
       "\t 1 & 1 & 05/02/2010 & 24924.50 & FALSE\\\\\n",
       "\t 1 & 1 & 12/02/2010 & 46039.49 &  TRUE\\\\\n",
       "\t 1 & 1 & 19/02/2010 & 41595.55 & FALSE\\\\\n",
       "\t 1 & 1 & 26/02/2010 & 19403.54 & FALSE\\\\\n",
       "\t 1 & 1 & 05/03/2010 & 21827.90 & FALSE\\\\\n",
       "\t 1 & 1 & 12/03/2010 & 21043.39 & FALSE\\\\\n",
       "\t 1 & 1 & 19/03/2010 & 22136.64 & FALSE\\\\\n",
       "\t 1 & 1 & 26/03/2010 & 26229.21 & FALSE\\\\\n",
       "\t 1 & 1 & 02/04/2010 & 57258.43 & FALSE\\\\\n",
       "\t 1 & 1 & 09/04/2010 & 42960.91 & FALSE\\\\\n",
       "\\end{tabular}\n"
      ],
      "text/markdown": [
       "\n",
       "A data.frame: 10 × 5\n",
       "\n",
       "| Store &lt;int&gt; | Dept &lt;int&gt; | Date &lt;chr&gt; | Weekly_Sales &lt;dbl&gt; | IsHoliday &lt;lgl&gt; |\n",
       "|---|---|---|---|---|\n",
       "| 1 | 1 | 05/02/2010 | 24924.50 | FALSE |\n",
       "| 1 | 1 | 12/02/2010 | 46039.49 |  TRUE |\n",
       "| 1 | 1 | 19/02/2010 | 41595.55 | FALSE |\n",
       "| 1 | 1 | 26/02/2010 | 19403.54 | FALSE |\n",
       "| 1 | 1 | 05/03/2010 | 21827.90 | FALSE |\n",
       "| 1 | 1 | 12/03/2010 | 21043.39 | FALSE |\n",
       "| 1 | 1 | 19/03/2010 | 22136.64 | FALSE |\n",
       "| 1 | 1 | 26/03/2010 | 26229.21 | FALSE |\n",
       "| 1 | 1 | 02/04/2010 | 57258.43 | FALSE |\n",
       "| 1 | 1 | 09/04/2010 | 42960.91 | FALSE |\n",
       "\n"
      ],
      "text/plain": [
       "   Store Dept Date       Weekly_Sales IsHoliday\n",
       "1  1     1    05/02/2010 24924.50     FALSE    \n",
       "2  1     1    12/02/2010 46039.49      TRUE    \n",
       "3  1     1    19/02/2010 41595.55     FALSE    \n",
       "4  1     1    26/02/2010 19403.54     FALSE    \n",
       "5  1     1    05/03/2010 21827.90     FALSE    \n",
       "6  1     1    12/03/2010 21043.39     FALSE    \n",
       "7  1     1    19/03/2010 22136.64     FALSE    \n",
       "8  1     1    26/03/2010 26229.21     FALSE    \n",
       "9  1     1    02/04/2010 57258.43     FALSE    \n",
       "10 1     1    09/04/2010 42960.91     FALSE    "
      ]
     },
     "metadata": {},
     "output_type": "display_data"
    }
   ],
   "source": [
    "head(sales, n=10)"
   ]
  },
  {
   "cell_type": "code",
   "execution_count": 4,
   "metadata": {},
   "outputs": [
    {
     "data": {
      "text/html": [
       "<table>\n",
       "<caption>A data.frame: 10 × 3</caption>\n",
       "<thead>\n",
       "\t<tr><th scope=col>Store</th><th scope=col>Type</th><th scope=col>Size</th></tr>\n",
       "\t<tr><th scope=col>&lt;int&gt;</th><th scope=col>&lt;chr&gt;</th><th scope=col>&lt;int&gt;</th></tr>\n",
       "</thead>\n",
       "<tbody>\n",
       "\t<tr><td> 1</td><td>A</td><td>151315</td></tr>\n",
       "\t<tr><td> 2</td><td>A</td><td>202307</td></tr>\n",
       "\t<tr><td> 3</td><td>B</td><td> 37392</td></tr>\n",
       "\t<tr><td> 4</td><td>A</td><td>205863</td></tr>\n",
       "\t<tr><td> 5</td><td>B</td><td> 34875</td></tr>\n",
       "\t<tr><td> 6</td><td>A</td><td>202505</td></tr>\n",
       "\t<tr><td> 7</td><td>B</td><td> 70713</td></tr>\n",
       "\t<tr><td> 8</td><td>A</td><td>155078</td></tr>\n",
       "\t<tr><td> 9</td><td>B</td><td>125833</td></tr>\n",
       "\t<tr><td>10</td><td>B</td><td>126512</td></tr>\n",
       "</tbody>\n",
       "</table>\n"
      ],
      "text/latex": [
       "A data.frame: 10 × 3\n",
       "\\begin{tabular}{r|lll}\n",
       " Store & Type & Size\\\\\n",
       " <int> & <chr> & <int>\\\\\n",
       "\\hline\n",
       "\t  1 & A & 151315\\\\\n",
       "\t  2 & A & 202307\\\\\n",
       "\t  3 & B &  37392\\\\\n",
       "\t  4 & A & 205863\\\\\n",
       "\t  5 & B &  34875\\\\\n",
       "\t  6 & A & 202505\\\\\n",
       "\t  7 & B &  70713\\\\\n",
       "\t  8 & A & 155078\\\\\n",
       "\t  9 & B & 125833\\\\\n",
       "\t 10 & B & 126512\\\\\n",
       "\\end{tabular}\n"
      ],
      "text/markdown": [
       "\n",
       "A data.frame: 10 × 3\n",
       "\n",
       "| Store &lt;int&gt; | Type &lt;chr&gt; | Size &lt;int&gt; |\n",
       "|---|---|---|\n",
       "|  1 | A | 151315 |\n",
       "|  2 | A | 202307 |\n",
       "|  3 | B |  37392 |\n",
       "|  4 | A | 205863 |\n",
       "|  5 | B |  34875 |\n",
       "|  6 | A | 202505 |\n",
       "|  7 | B |  70713 |\n",
       "|  8 | A | 155078 |\n",
       "|  9 | B | 125833 |\n",
       "| 10 | B | 126512 |\n",
       "\n"
      ],
      "text/plain": [
       "   Store Type Size  \n",
       "1   1    A    151315\n",
       "2   2    A    202307\n",
       "3   3    B     37392\n",
       "4   4    A    205863\n",
       "5   5    B     34875\n",
       "6   6    A    202505\n",
       "7   7    B     70713\n",
       "8   8    A    155078\n",
       "9   9    B    125833\n",
       "10 10    B    126512"
      ]
     },
     "metadata": {},
     "output_type": "display_data"
    }
   ],
   "source": [
    "head(stores, n=10)"
   ]
  },
  {
   "cell_type": "markdown",
   "metadata": {},
   "source": [
    "<b> 2.2) Explore columns in the data set to see what type of columns they are. </b>"
   ]
  },
  {
   "cell_type": "code",
   "execution_count": 5,
   "metadata": {},
   "outputs": [
    {
     "name": "stdout",
     "output_type": "stream",
     "text": [
      "'data.frame':\t8190 obs. of  12 variables:\n",
      " $ Store       : int  1 1 1 1 1 1 1 1 1 1 ...\n",
      " $ Date        : chr  \"05/02/2010\" \"12/02/2010\" \"19/02/2010\" \"26/02/2010\" ...\n",
      " $ Temperature : num  42.3 38.5 39.9 46.6 46.5 ...\n",
      " $ Fuel_Price  : num  2.57 2.55 2.51 2.56 2.62 ...\n",
      " $ MarkDown1   : num  NA NA NA NA NA NA NA NA NA NA ...\n",
      " $ MarkDown2   : num  NA NA NA NA NA NA NA NA NA NA ...\n",
      " $ MarkDown3   : num  NA NA NA NA NA NA NA NA NA NA ...\n",
      " $ MarkDown4   : num  NA NA NA NA NA NA NA NA NA NA ...\n",
      " $ MarkDown5   : num  NA NA NA NA NA NA NA NA NA NA ...\n",
      " $ CPI         : num  211 211 211 211 211 ...\n",
      " $ Unemployment: num  8.11 8.11 8.11 8.11 8.11 ...\n",
      " $ IsHoliday   : logi  FALSE TRUE FALSE FALSE FALSE FALSE ...\n"
     ]
    }
   ],
   "source": [
    "str(features)"
   ]
  },
  {
   "cell_type": "code",
   "execution_count": 6,
   "metadata": {},
   "outputs": [
    {
     "name": "stdout",
     "output_type": "stream",
     "text": [
      "'data.frame':\t421570 obs. of  5 variables:\n",
      " $ Store       : int  1 1 1 1 1 1 1 1 1 1 ...\n",
      " $ Dept        : int  1 1 1 1 1 1 1 1 1 1 ...\n",
      " $ Date        : chr  \"05/02/2010\" \"12/02/2010\" \"19/02/2010\" \"26/02/2010\" ...\n",
      " $ Weekly_Sales: num  24924 46039 41596 19404 21828 ...\n",
      " $ IsHoliday   : logi  FALSE TRUE FALSE FALSE FALSE FALSE ...\n"
     ]
    }
   ],
   "source": [
    "str(sales)"
   ]
  },
  {
   "cell_type": "code",
   "execution_count": 7,
   "metadata": {},
   "outputs": [
    {
     "name": "stdout",
     "output_type": "stream",
     "text": [
      "'data.frame':\t45 obs. of  3 variables:\n",
      " $ Store: int  1 2 3 4 5 6 7 8 9 10 ...\n",
      " $ Type : chr  \"A\" \"A\" \"B\" \"A\" ...\n",
      " $ Size : int  151315 202307 37392 205863 34875 202505 70713 155078 125833 126512 ...\n"
     ]
    }
   ],
   "source": [
    "str(stores)"
   ]
  },
  {
   "cell_type": "markdown",
   "metadata": {},
   "source": [
    "<b>2.3) Explore the total number of rows and columns in each dataset </b>"
   ]
  },
  {
   "cell_type": "code",
   "execution_count": 8,
   "metadata": {},
   "outputs": [
    {
     "name": "stdout",
     "output_type": "stream",
     "text": [
      "Features's total rows =  8190 \n",
      "Features's total columns =  12"
     ]
    }
   ],
   "source": [
    "cat(\"Features's total rows = \", nrow(features), \"\\n\")\n",
    "cat(\"Features's total columns = \", ncol(features))"
   ]
  },
  {
   "cell_type": "code",
   "execution_count": 9,
   "metadata": {},
   "outputs": [
    {
     "name": "stdout",
     "output_type": "stream",
     "text": [
      "Sales' total rows =  421570 \n",
      "Sales' total columns =  5"
     ]
    }
   ],
   "source": [
    "cat(\"Sales' total rows = \", nrow(sales), \"\\n\")\n",
    "cat(\"Sales' total columns = \", ncol(sales))"
   ]
  },
  {
   "cell_type": "code",
   "execution_count": 10,
   "metadata": {},
   "outputs": [
    {
     "name": "stdout",
     "output_type": "stream",
     "text": [
      "Stores' total rows =  45 \n",
      "Stores' total columns =  3"
     ]
    }
   ],
   "source": [
    "cat(\"Stores' total rows = \", nrow(stores), \"\\n\")\n",
    "cat(\"Stores' total columns = \", ncol(stores))"
   ]
  },
  {
   "cell_type": "markdown",
   "metadata": {},
   "source": [
    "<b> 2.4) Summarize and provide statistic information about dataset </b>"
   ]
  },
  {
   "cell_type": "code",
   "execution_count": 11,
   "metadata": {},
   "outputs": [
    {
     "data": {
      "text/plain": [
       "     Store        Date            Temperature       Fuel_Price   \n",
       " Min.   : 1   Length:8190        Min.   : -7.29   Min.   :2.472  \n",
       " 1st Qu.:12   Class :character   1st Qu.: 45.90   1st Qu.:3.041  \n",
       " Median :23   Mode  :character   Median : 60.71   Median :3.513  \n",
       " Mean   :23                      Mean   : 59.36   Mean   :3.406  \n",
       " 3rd Qu.:34                      3rd Qu.: 73.88   3rd Qu.:3.743  \n",
       " Max.   :45                      Max.   :101.95   Max.   :4.468  \n",
       "                                                                 \n",
       "   MarkDown1        MarkDown2           MarkDown3           MarkDown4       \n",
       " Min.   : -2781   Min.   :  -265.76   Min.   :  -179.26   Min.   :    0.22  \n",
       " 1st Qu.:  1578   1st Qu.:    68.88   1st Qu.:     6.60   1st Qu.:  304.69  \n",
       " Median :  4744   Median :   364.57   Median :    36.26   Median : 1176.42  \n",
       " Mean   :  7032   Mean   :  3384.18   Mean   :  1760.10   Mean   : 3292.94  \n",
       " 3rd Qu.:  8923   3rd Qu.:  2153.35   3rd Qu.:   163.15   3rd Qu.: 3310.01  \n",
       " Max.   :103185   Max.   :104519.54   Max.   :149483.31   Max.   :67474.85  \n",
       " NA's   :4158     NA's   :5269        NA's   :4577        NA's   :4726      \n",
       "   MarkDown5             CPI         Unemployment    IsHoliday      \n",
       " Min.   :  -185.2   Min.   :126.1   Min.   : 3.684   Mode :logical  \n",
       " 1st Qu.:  1440.8   1st Qu.:132.4   1st Qu.: 6.634   FALSE:7605     \n",
       " Median :  2727.1   Median :182.8   Median : 7.806   TRUE :585      \n",
       " Mean   :  4132.2   Mean   :172.5   Mean   : 7.827                  \n",
       " 3rd Qu.:  4832.6   3rd Qu.:213.9   3rd Qu.: 8.567                  \n",
       " Max.   :771448.1   Max.   :229.0   Max.   :14.313                  \n",
       " NA's   :4140       NA's   :585     NA's   :585                     "
      ]
     },
     "metadata": {},
     "output_type": "display_data"
    }
   ],
   "source": [
    "summary(features)"
   ]
  },
  {
   "cell_type": "code",
   "execution_count": 12,
   "metadata": {},
   "outputs": [
    {
     "data": {
      "text/plain": [
       "     Store           Dept           Date            Weekly_Sales   \n",
       " Min.   : 1.0   Min.   : 1.00   Length:421570      Min.   : -4989  \n",
       " 1st Qu.:11.0   1st Qu.:18.00   Class :character   1st Qu.:  2080  \n",
       " Median :22.0   Median :37.00   Mode  :character   Median :  7612  \n",
       " Mean   :22.2   Mean   :44.26                      Mean   : 15981  \n",
       " 3rd Qu.:33.0   3rd Qu.:74.00                      3rd Qu.: 20206  \n",
       " Max.   :45.0   Max.   :99.00                      Max.   :693099  \n",
       " IsHoliday      \n",
       " Mode :logical  \n",
       " FALSE:391909   \n",
       " TRUE :29661    \n",
       "                \n",
       "                \n",
       "                "
      ]
     },
     "metadata": {},
     "output_type": "display_data"
    }
   ],
   "source": [
    "summary(sales)"
   ]
  },
  {
   "cell_type": "code",
   "execution_count": 13,
   "metadata": {},
   "outputs": [
    {
     "data": {
      "text/plain": [
       "     Store        Type                Size       \n",
       " Min.   : 1   Length:45          Min.   : 34875  \n",
       " 1st Qu.:12   Class :character   1st Qu.: 70713  \n",
       " Median :23   Mode  :character   Median :126512  \n",
       " Mean   :23                      Mean   :130288  \n",
       " 3rd Qu.:34                      3rd Qu.:202307  \n",
       " Max.   :45                      Max.   :219622  "
      ]
     },
     "metadata": {},
     "output_type": "display_data"
    }
   ],
   "source": [
    "summary(stores)"
   ]
  },
  {
   "cell_type": "markdown",
   "metadata": {},
   "source": [
    "## <a id=\"head3\"></a><font color='blue'> 3) Merge"
   ]
  },
  {
   "cell_type": "code",
   "execution_count": 14,
   "metadata": {},
   "outputs": [],
   "source": [
    "fs <- merge(features, sales, by = c(\"Store\",  \"Date\", \"IsHoliday\"))\n"
   ]
  },
  {
   "cell_type": "code",
   "execution_count": 15,
   "metadata": {},
   "outputs": [],
   "source": [
    "sales_all <- merge(fs, stores, by = \"Store\")"
   ]
  },
  {
   "cell_type": "code",
   "execution_count": 16,
   "metadata": {},
   "outputs": [
    {
     "data": {
      "text/html": [
       "421570"
      ],
      "text/latex": [
       "421570"
      ],
      "text/markdown": [
       "421570"
      ],
      "text/plain": [
       "[1] 421570"
      ]
     },
     "metadata": {},
     "output_type": "display_data"
    },
    {
     "data": {
      "text/html": [
       "16"
      ],
      "text/latex": [
       "16"
      ],
      "text/markdown": [
       "16"
      ],
      "text/plain": [
       "[1] 16"
      ]
     },
     "metadata": {},
     "output_type": "display_data"
    }
   ],
   "source": [
    "nrow(sales_all)\n",
    "ncol(sales_all)"
   ]
  },
  {
   "cell_type": "code",
   "execution_count": 17,
   "metadata": {},
   "outputs": [
    {
     "data": {
      "text/html": [
       "<table>\n",
       "<caption>A data.frame: 10 × 16</caption>\n",
       "<thead>\n",
       "\t<tr><th scope=col>Store</th><th scope=col>Date</th><th scope=col>IsHoliday</th><th scope=col>Temperature</th><th scope=col>Fuel_Price</th><th scope=col>MarkDown1</th><th scope=col>MarkDown2</th><th scope=col>MarkDown3</th><th scope=col>MarkDown4</th><th scope=col>MarkDown5</th><th scope=col>CPI</th><th scope=col>Unemployment</th><th scope=col>Dept</th><th scope=col>Weekly_Sales</th><th scope=col>Type</th><th scope=col>Size</th></tr>\n",
       "\t<tr><th scope=col>&lt;int&gt;</th><th scope=col>&lt;chr&gt;</th><th scope=col>&lt;lgl&gt;</th><th scope=col>&lt;dbl&gt;</th><th scope=col>&lt;dbl&gt;</th><th scope=col>&lt;dbl&gt;</th><th scope=col>&lt;dbl&gt;</th><th scope=col>&lt;dbl&gt;</th><th scope=col>&lt;dbl&gt;</th><th scope=col>&lt;dbl&gt;</th><th scope=col>&lt;dbl&gt;</th><th scope=col>&lt;dbl&gt;</th><th scope=col>&lt;int&gt;</th><th scope=col>&lt;dbl&gt;</th><th scope=col>&lt;chr&gt;</th><th scope=col>&lt;int&gt;</th></tr>\n",
       "</thead>\n",
       "<tbody>\n",
       "\t<tr><td>1</td><td>01/04/2011</td><td>FALSE</td><td>59.17</td><td>3.524</td><td>NA</td><td>NA</td><td>NA</td><td>NA</td><td>NA</td><td>214.8372</td><td>7.682</td><td>49</td><td>13167.85</td><td>A</td><td>151315</td></tr>\n",
       "\t<tr><td>1</td><td>01/04/2011</td><td>FALSE</td><td>59.17</td><td>3.524</td><td>NA</td><td>NA</td><td>NA</td><td>NA</td><td>NA</td><td>214.8372</td><td>7.682</td><td>26</td><td> 5946.53</td><td>A</td><td>151315</td></tr>\n",
       "\t<tr><td>1</td><td>01/04/2011</td><td>FALSE</td><td>59.17</td><td>3.524</td><td>NA</td><td>NA</td><td>NA</td><td>NA</td><td>NA</td><td>214.8372</td><td>7.682</td><td>81</td><td>28545.23</td><td>A</td><td>151315</td></tr>\n",
       "\t<tr><td>1</td><td>01/04/2011</td><td>FALSE</td><td>59.17</td><td>3.524</td><td>NA</td><td>NA</td><td>NA</td><td>NA</td><td>NA</td><td>214.8372</td><td>7.682</td><td>34</td><td> 9949.54</td><td>A</td><td>151315</td></tr>\n",
       "\t<tr><td>1</td><td>01/04/2011</td><td>FALSE</td><td>59.17</td><td>3.524</td><td>NA</td><td>NA</td><td>NA</td><td>NA</td><td>NA</td><td>214.8372</td><td>7.682</td><td>59</td><td>  316.86</td><td>A</td><td>151315</td></tr>\n",
       "\t<tr><td>1</td><td>01/04/2011</td><td>FALSE</td><td>59.17</td><td>3.524</td><td>NA</td><td>NA</td><td>NA</td><td>NA</td><td>NA</td><td>214.8372</td><td>7.682</td><td>30</td><td> 3897.48</td><td>A</td><td>151315</td></tr>\n",
       "\t<tr><td>1</td><td>01/04/2011</td><td>FALSE</td><td>59.17</td><td>3.524</td><td>NA</td><td>NA</td><td>NA</td><td>NA</td><td>NA</td><td>214.8372</td><td>7.682</td><td> 7</td><td>20144.71</td><td>A</td><td>151315</td></tr>\n",
       "\t<tr><td>1</td><td>01/04/2011</td><td>FALSE</td><td>59.17</td><td>3.524</td><td>NA</td><td>NA</td><td>NA</td><td>NA</td><td>NA</td><td>214.8372</td><td>7.682</td><td>85</td><td> 3208.74</td><td>A</td><td>151315</td></tr>\n",
       "\t<tr><td>1</td><td>01/04/2011</td><td>FALSE</td><td>59.17</td><td>3.524</td><td>NA</td><td>NA</td><td>NA</td><td>NA</td><td>NA</td><td>214.8372</td><td>7.682</td><td> 8</td><td>35319.05</td><td>A</td><td>151315</td></tr>\n",
       "\t<tr><td>1</td><td>01/04/2011</td><td>FALSE</td><td>59.17</td><td>3.524</td><td>NA</td><td>NA</td><td>NA</td><td>NA</td><td>NA</td><td>214.8372</td><td>7.682</td><td>28</td><td>  602.63</td><td>A</td><td>151315</td></tr>\n",
       "</tbody>\n",
       "</table>\n"
      ],
      "text/latex": [
       "A data.frame: 10 × 16\n",
       "\\begin{tabular}{r|llllllllllllllll}\n",
       " Store & Date & IsHoliday & Temperature & Fuel\\_Price & MarkDown1 & MarkDown2 & MarkDown3 & MarkDown4 & MarkDown5 & CPI & Unemployment & Dept & Weekly\\_Sales & Type & Size\\\\\n",
       " <int> & <chr> & <lgl> & <dbl> & <dbl> & <dbl> & <dbl> & <dbl> & <dbl> & <dbl> & <dbl> & <dbl> & <int> & <dbl> & <chr> & <int>\\\\\n",
       "\\hline\n",
       "\t 1 & 01/04/2011 & FALSE & 59.17 & 3.524 & NA & NA & NA & NA & NA & 214.8372 & 7.682 & 49 & 13167.85 & A & 151315\\\\\n",
       "\t 1 & 01/04/2011 & FALSE & 59.17 & 3.524 & NA & NA & NA & NA & NA & 214.8372 & 7.682 & 26 &  5946.53 & A & 151315\\\\\n",
       "\t 1 & 01/04/2011 & FALSE & 59.17 & 3.524 & NA & NA & NA & NA & NA & 214.8372 & 7.682 & 81 & 28545.23 & A & 151315\\\\\n",
       "\t 1 & 01/04/2011 & FALSE & 59.17 & 3.524 & NA & NA & NA & NA & NA & 214.8372 & 7.682 & 34 &  9949.54 & A & 151315\\\\\n",
       "\t 1 & 01/04/2011 & FALSE & 59.17 & 3.524 & NA & NA & NA & NA & NA & 214.8372 & 7.682 & 59 &   316.86 & A & 151315\\\\\n",
       "\t 1 & 01/04/2011 & FALSE & 59.17 & 3.524 & NA & NA & NA & NA & NA & 214.8372 & 7.682 & 30 &  3897.48 & A & 151315\\\\\n",
       "\t 1 & 01/04/2011 & FALSE & 59.17 & 3.524 & NA & NA & NA & NA & NA & 214.8372 & 7.682 &  7 & 20144.71 & A & 151315\\\\\n",
       "\t 1 & 01/04/2011 & FALSE & 59.17 & 3.524 & NA & NA & NA & NA & NA & 214.8372 & 7.682 & 85 &  3208.74 & A & 151315\\\\\n",
       "\t 1 & 01/04/2011 & FALSE & 59.17 & 3.524 & NA & NA & NA & NA & NA & 214.8372 & 7.682 &  8 & 35319.05 & A & 151315\\\\\n",
       "\t 1 & 01/04/2011 & FALSE & 59.17 & 3.524 & NA & NA & NA & NA & NA & 214.8372 & 7.682 & 28 &   602.63 & A & 151315\\\\\n",
       "\\end{tabular}\n"
      ],
      "text/markdown": [
       "\n",
       "A data.frame: 10 × 16\n",
       "\n",
       "| Store &lt;int&gt; | Date &lt;chr&gt; | IsHoliday &lt;lgl&gt; | Temperature &lt;dbl&gt; | Fuel_Price &lt;dbl&gt; | MarkDown1 &lt;dbl&gt; | MarkDown2 &lt;dbl&gt; | MarkDown3 &lt;dbl&gt; | MarkDown4 &lt;dbl&gt; | MarkDown5 &lt;dbl&gt; | CPI &lt;dbl&gt; | Unemployment &lt;dbl&gt; | Dept &lt;int&gt; | Weekly_Sales &lt;dbl&gt; | Type &lt;chr&gt; | Size &lt;int&gt; |\n",
       "|---|---|---|---|---|---|---|---|---|---|---|---|---|---|---|---|\n",
       "| 1 | 01/04/2011 | FALSE | 59.17 | 3.524 | NA | NA | NA | NA | NA | 214.8372 | 7.682 | 49 | 13167.85 | A | 151315 |\n",
       "| 1 | 01/04/2011 | FALSE | 59.17 | 3.524 | NA | NA | NA | NA | NA | 214.8372 | 7.682 | 26 |  5946.53 | A | 151315 |\n",
       "| 1 | 01/04/2011 | FALSE | 59.17 | 3.524 | NA | NA | NA | NA | NA | 214.8372 | 7.682 | 81 | 28545.23 | A | 151315 |\n",
       "| 1 | 01/04/2011 | FALSE | 59.17 | 3.524 | NA | NA | NA | NA | NA | 214.8372 | 7.682 | 34 |  9949.54 | A | 151315 |\n",
       "| 1 | 01/04/2011 | FALSE | 59.17 | 3.524 | NA | NA | NA | NA | NA | 214.8372 | 7.682 | 59 |   316.86 | A | 151315 |\n",
       "| 1 | 01/04/2011 | FALSE | 59.17 | 3.524 | NA | NA | NA | NA | NA | 214.8372 | 7.682 | 30 |  3897.48 | A | 151315 |\n",
       "| 1 | 01/04/2011 | FALSE | 59.17 | 3.524 | NA | NA | NA | NA | NA | 214.8372 | 7.682 |  7 | 20144.71 | A | 151315 |\n",
       "| 1 | 01/04/2011 | FALSE | 59.17 | 3.524 | NA | NA | NA | NA | NA | 214.8372 | 7.682 | 85 |  3208.74 | A | 151315 |\n",
       "| 1 | 01/04/2011 | FALSE | 59.17 | 3.524 | NA | NA | NA | NA | NA | 214.8372 | 7.682 |  8 | 35319.05 | A | 151315 |\n",
       "| 1 | 01/04/2011 | FALSE | 59.17 | 3.524 | NA | NA | NA | NA | NA | 214.8372 | 7.682 | 28 |   602.63 | A | 151315 |\n",
       "\n"
      ],
      "text/plain": [
       "   Store Date       IsHoliday Temperature Fuel_Price MarkDown1 MarkDown2\n",
       "1  1     01/04/2011 FALSE     59.17       3.524      NA        NA       \n",
       "2  1     01/04/2011 FALSE     59.17       3.524      NA        NA       \n",
       "3  1     01/04/2011 FALSE     59.17       3.524      NA        NA       \n",
       "4  1     01/04/2011 FALSE     59.17       3.524      NA        NA       \n",
       "5  1     01/04/2011 FALSE     59.17       3.524      NA        NA       \n",
       "6  1     01/04/2011 FALSE     59.17       3.524      NA        NA       \n",
       "7  1     01/04/2011 FALSE     59.17       3.524      NA        NA       \n",
       "8  1     01/04/2011 FALSE     59.17       3.524      NA        NA       \n",
       "9  1     01/04/2011 FALSE     59.17       3.524      NA        NA       \n",
       "10 1     01/04/2011 FALSE     59.17       3.524      NA        NA       \n",
       "   MarkDown3 MarkDown4 MarkDown5 CPI      Unemployment Dept Weekly_Sales Type\n",
       "1  NA        NA        NA        214.8372 7.682        49   13167.85     A   \n",
       "2  NA        NA        NA        214.8372 7.682        26    5946.53     A   \n",
       "3  NA        NA        NA        214.8372 7.682        81   28545.23     A   \n",
       "4  NA        NA        NA        214.8372 7.682        34    9949.54     A   \n",
       "5  NA        NA        NA        214.8372 7.682        59     316.86     A   \n",
       "6  NA        NA        NA        214.8372 7.682        30    3897.48     A   \n",
       "7  NA        NA        NA        214.8372 7.682         7   20144.71     A   \n",
       "8  NA        NA        NA        214.8372 7.682        85    3208.74     A   \n",
       "9  NA        NA        NA        214.8372 7.682         8   35319.05     A   \n",
       "10 NA        NA        NA        214.8372 7.682        28     602.63     A   \n",
       "   Size  \n",
       "1  151315\n",
       "2  151315\n",
       "3  151315\n",
       "4  151315\n",
       "5  151315\n",
       "6  151315\n",
       "7  151315\n",
       "8  151315\n",
       "9  151315\n",
       "10 151315"
      ]
     },
     "metadata": {},
     "output_type": "display_data"
    }
   ],
   "source": [
    "head(sales_all, n=10)"
   ]
  },
  {
   "cell_type": "markdown",
   "metadata": {},
   "source": [
    "## <a id=\"head4\"></a><font color='blue'>4) Simple Linear Regression"
   ]
  },
  {
   "cell_type": "markdown",
   "metadata": {},
   "source": [
    "<b>4.1) Relationship between weekly sales and temperature </b>"
   ]
  },
  {
   "cell_type": "code",
   "execution_count": 18,
   "metadata": {},
   "outputs": [
    {
     "data": {
      "text/plain": [
       "\n",
       "Call:\n",
       "lm(formula = Weekly_Sales ~ Temperature, data = sales_all)\n",
       "\n",
       "Residuals:\n",
       "   Min     1Q Median     3Q    Max \n",
       "-20937 -13906  -8368   4224 677105 \n",
       "\n",
       "Coefficients:\n",
       "             Estimate Std. Error t value Pr(>|t|)    \n",
       "(Intercept) 16152.325    119.184 135.524   <2e-16 ***\n",
       "Temperature    -2.847      1.896  -1.501    0.133    \n",
       "---\n",
       "Signif. codes:  0 ‘***’ 0.001 ‘**’ 0.01 ‘*’ 0.05 ‘.’ 0.1 ‘ ’ 1\n",
       "\n",
       "Residual standard error: 22710 on 421568 degrees of freedom\n",
       "Multiple R-squared:  5.347e-06,\tAdjusted R-squared:  2.975e-06 \n",
       "F-statistic: 2.254 on 1 and 421568 DF,  p-value: 0.1332\n"
      ]
     },
     "metadata": {},
     "output_type": "display_data"
    }
   ],
   "source": [
    "sales.temp <- lm(Weekly_Sales ~ Temperature, data = sales_all)\n",
    "summary(sales.temp)"
   ]
  },
  {
   "cell_type": "markdown",
   "metadata": {},
   "source": [
    "The Adjusted R-squared value of 2.975e-06 indicates that the model explains over 0 percent of the variance in the data. Our model doesn't fit the data. p-value > 0.05 (not significant) We don't have enough evidence to claim that there is a relationship between weekly sales and temperature. Therefore, we can conclude that temperature should not be used to predict weekly sales"
   ]
  },
  {
   "cell_type": "markdown",
   "metadata": {},
   "source": [
    "<b>4.2) Relationship between weekly sales and CPI</b>"
   ]
  },
  {
   "cell_type": "code",
   "execution_count": 19,
   "metadata": {},
   "outputs": [
    {
     "data": {
      "text/plain": [
       "\n",
       "Call:\n",
       "lm(formula = Weekly_Sales ~ CPI, data = sales_all)\n",
       "\n",
       "Residuals:\n",
       "   Min     1Q Median     3Q    Max \n",
       "-21515 -13842  -8358   4224 676578 \n",
       "\n",
       "Coefficients:\n",
       "              Estimate Std. Error t value Pr(>|t|)    \n",
       "(Intercept) 18058.5772   156.8406  115.14   <2e-16 ***\n",
       "CPI           -12.1337     0.8931  -13.59   <2e-16 ***\n",
       "---\n",
       "Signif. codes:  0 ‘***’ 0.001 ‘**’ 0.01 ‘*’ 0.05 ‘.’ 0.1 ‘ ’ 1\n",
       "\n",
       "Residual standard error: 22710 on 421568 degrees of freedom\n",
       "Multiple R-squared:  0.0004377,\tAdjusted R-squared:  0.0004353 \n",
       "F-statistic: 184.6 on 1 and 421568 DF,  p-value: < 2.2e-16\n"
      ]
     },
     "metadata": {},
     "output_type": "display_data"
    }
   ],
   "source": [
    "sales.cpi <- lm(Weekly_Sales ~ CPI, data = sales_all)\n",
    "summary(sales.cpi)"
   ]
  },
  {
   "cell_type": "markdown",
   "metadata": {},
   "source": [
    "The Adjusted R-squared value of 0.000435 indicates that the model explains 0.05 percent of the variance in the data; approximately 6% of variation in weekly sales can be explained by CPI.  p-value < 0.05 (significant) We have strong evidence that there is, in fact, a relationship between weekly sales and CPI. Eventhough R-squared value is low, we have statistically significant independent variable. CPI is correlated with weekly sales, but it doesn't explain much of the variability in the weekly sales. CPI is negatively related to weekly sales due to its negative slope. Therefore, we can conclude that CPI can be used to predict weekly sales"
   ]
  },
  {
   "cell_type": "markdown",
   "metadata": {},
   "source": [
    "<b>4.3) Relationship between weekly sales and fuel price</b>"
   ]
  },
  {
   "cell_type": "code",
   "execution_count": 20,
   "metadata": {},
   "outputs": [
    {
     "data": {
      "text/plain": [
       "\n",
       "Call:\n",
       "lm(formula = Weekly_Sales ~ Fuel_Price, data = sales_all)\n",
       "\n",
       "Residuals:\n",
       "   Min     1Q Median     3Q    Max \n",
       "-20972 -13901  -8368   4225 677117 \n",
       "\n",
       "Coefficients:\n",
       "             Estimate Std. Error t value Pr(>|t|)    \n",
       "(Intercept) 16001.285    258.779  61.834   <2e-16 ***\n",
       "Fuel_Price     -5.958     76.287  -0.078    0.938    \n",
       "---\n",
       "Signif. codes:  0 ‘***’ 0.001 ‘**’ 0.01 ‘*’ 0.05 ‘.’ 0.1 ‘ ’ 1\n",
       "\n",
       "Residual standard error: 22710 on 421568 degrees of freedom\n",
       "Multiple R-squared:  1.447e-08,\tAdjusted R-squared:  -2.358e-06 \n",
       "F-statistic: 0.006101 on 1 and 421568 DF,  p-value: 0.9377\n"
      ]
     },
     "metadata": {},
     "output_type": "display_data"
    }
   ],
   "source": [
    "sales.fuel <- lm(Weekly_Sales ~ Fuel_Price, data = sales_all)\n",
    "summary(sales.fuel)"
   ]
  },
  {
   "cell_type": "markdown",
   "metadata": {},
   "source": [
    "The Adjusted R-squared value of -2.358e-06 (negative) indicates that our model doesn't follow the trend of the data. p-value > 0.05 (not significant) We don't have enough evidence to claim that there is a relationship between weekly sales and fuel price. Therefore, we can conclude that fuel price shouldn't be used to predict weekly sales."
   ]
  },
  {
   "cell_type": "markdown",
   "metadata": {},
   "source": [
    "<b>4.4) Relationship between weekly sales and unemployment rate</b>"
   ]
  },
  {
   "cell_type": "code",
   "execution_count": 21,
   "metadata": {},
   "outputs": [
    {
     "data": {
      "text/plain": [
       "\n",
       "Call:\n",
       "lm(formula = Weekly_Sales ~ Unemployment, data = sales_all)\n",
       "\n",
       "Residuals:\n",
       "   Min     1Q Median     3Q    Max \n",
       "-19677 -13872  -8376   4244 677447 \n",
       "\n",
       "Coefficients:\n",
       "             Estimate Std. Error t value Pr(>|t|)    \n",
       "(Intercept)  18490.70     153.42   120.5   <2e-16 ***\n",
       "Unemployment  -315.25      18.77   -16.8   <2e-16 ***\n",
       "---\n",
       "Signif. codes:  0 ‘***’ 0.001 ‘**’ 0.01 ‘*’ 0.05 ‘.’ 0.1 ‘ ’ 1\n",
       "\n",
       "Residual standard error: 22700 on 421568 degrees of freedom\n",
       "Multiple R-squared:  0.0006689,\tAdjusted R-squared:  0.0006666 \n",
       "F-statistic: 282.2 on 1 and 421568 DF,  p-value: < 2.2e-16\n"
      ]
     },
     "metadata": {},
     "output_type": "display_data"
    }
   ],
   "source": [
    "sales.unemp <- lm(Weekly_Sales ~ Unemployment, data = sales_all)\n",
    "summary(sales.unemp)"
   ]
  },
  {
   "cell_type": "markdown",
   "metadata": {},
   "source": [
    "The Adjusted R-squared value of 0.0006689 indicates that the model explains over 0.07 percent of the variance in the data; approximately 0.07% of variation in weekly sales can be explained by unemployment rate. p-value < 0.05 (significant) We have strong evidence that there is, in fact, a relationship between weekly sales and unemployment rate.  Eventhough R-squared value is low, we have statistically significant predictors. Unemployment rate is correlated with weekly sales, but it doesn't explain much of the variability in the weekly sales. Unemployment rate is negatively related to weekly sales due to its negative slope. Therefore, we can conclude that unemployment rate can be used to predict weekly sales."
   ]
  },
  {
   "cell_type": "markdown",
   "metadata": {},
   "source": [
    "<b>4.5) Relationship between weekly sales and store size</b>"
   ]
  },
  {
   "cell_type": "code",
   "execution_count": 22,
   "metadata": {},
   "outputs": [
    {
     "data": {
      "text/plain": [
       "\n",
       "Call:\n",
       "lm(formula = Weekly_Sales ~ Size, data = sales_all)\n",
       "\n",
       "Residuals:\n",
       "   Min     1Q Median     3Q    Max \n",
       "-27288 -12872  -6620   4283 678046 \n",
       "\n",
       "Coefficients:\n",
       "             Estimate Std. Error t value Pr(>|t|)    \n",
       "(Intercept) 3.565e+03  8.328e+01   42.81   <2e-16 ***\n",
       "Size        9.081e-02  5.563e-04  163.24   <2e-16 ***\n",
       "---\n",
       "Signif. codes:  0 ‘***’ 0.001 ‘**’ 0.01 ‘*’ 0.05 ‘.’ 0.1 ‘ ’ 1\n",
       "\n",
       "Residual standard error: 22030 on 421568 degrees of freedom\n",
       "Multiple R-squared:  0.05945,\tAdjusted R-squared:  0.05945 \n",
       "F-statistic: 2.665e+04 on 1 and 421568 DF,  p-value: < 2.2e-16\n"
      ]
     },
     "metadata": {},
     "output_type": "display_data"
    }
   ],
   "source": [
    "sales.size <- lm(Weekly_Sales ~ Size, data = sales_all)\n",
    "summary(sales.size)"
   ]
  },
  {
   "cell_type": "markdown",
   "metadata": {},
   "source": [
    "The Adjusted R-squared value of 0.0595 indicates that the model explains over 6 percent of the variance in the data; approximately 6% of variation in weekly sales can be explained by store size.\n",
    "p-value < 0.05 (significant) We have strong evidence that there is, in fact, a relationship between weekly sales and  store size. Eventhough R-squared value is low, we have statistically significant predictor. Store size is correlated with weekly sales, but it doesn't explian much of the variability in the weekly sales. Store size is positively related to weekly sales due to its positive slope. Therefore, we can conclude that strore size can be used to predict our weekly sales."
   ]
  },
  {
   "cell_type": "markdown",
   "metadata": {},
   "source": [
    "## <a id=\"head5\"></a><font color='blue'>5) Model Comparison"
   ]
  },
  {
   "cell_type": "markdown",
   "metadata": {},
   "source": [
    "A predictor that has a low p-value is likely to be a meaningful addition to our model because changes in the predictor's value are related to changes in the response variable. Moreover, the higher r-square is, the better to explain changes in the outcome variable. \n",
    "After Comparing each of the models in 4), I decide that the <b>sales.size model</b> (relationship between weekly sales and store size) is better than the rest. This model has the least p-value(2.2e-16) and the most R-squared(0.06). This model has independent variables that are statistically significant but a low R-squared value. This combination indicates that store size are correlated with weekly sales, but it doesn't explin much of the variability in the weekly sales. \n"
   ]
  },
  {
   "cell_type": "markdown",
   "metadata": {},
   "source": [
    "Therefore, the best model so far is `Weekly_Sales = (3.565e+03) + (9.081e-02) * Size`"
   ]
  },
  {
   "cell_type": "markdown",
   "metadata": {},
   "source": [
    "## <a id=\"head6\"></a><font color='blue'>6) Multiple Linear Regression"
   ]
  },
  {
   "cell_type": "markdown",
   "metadata": {},
   "source": [
    "<b> 6.1) Relationship between weekly sale, unemployment rate, and MarkDown1</b>"
   ]
  },
  {
   "cell_type": "code",
   "execution_count": 25,
   "metadata": {},
   "outputs": [
    {
     "data": {
      "text/plain": [
       "\n",
       "Call:\n",
       "lm(formula = Weekly_Sales ~ Unemployment + MarkDown1, data = sales_all)\n",
       "\n",
       "Residuals:\n",
       "   Min     1Q Median     3Q    Max \n",
       "-36045 -13689  -8600   4333 635659 \n",
       "\n",
       "Coefficients:\n",
       "               Estimate Std. Error t value Pr(>|t|)    \n",
       "(Intercept)   1.808e+04  2.656e+02   68.08   <2e-16 ***\n",
       "Unemployment -4.913e+02  3.460e+01  -14.20   <2e-16 ***\n",
       "MarkDown1     2.443e-01  7.206e-03   33.91   <2e-16 ***\n",
       "---\n",
       "Signif. codes:  0 ‘***’ 0.001 ‘**’ 0.01 ‘*’ 0.05 ‘.’ 0.1 ‘ ’ 1\n",
       "\n",
       "Residual standard error: 23160 on 150678 degrees of freedom\n",
       "  (270889 observations deleted due to missingness)\n",
       "Multiple R-squared:  0.008595,\tAdjusted R-squared:  0.008581 \n",
       "F-statistic: 653.1 on 2 and 150678 DF,  p-value: < 2.2e-16\n"
      ]
     },
     "metadata": {},
     "output_type": "display_data"
    }
   ],
   "source": [
    "m1 <- lm(Weekly_Sales ~ Unemployment + MarkDown1 , data = sales_all)\n",
    "summary(m1)"
   ]
  },
  {
   "cell_type": "markdown",
   "metadata": {},
   "source": [
    "In this case, we can see the R-squared of 0.0086, approximately 0.86% of variation in weekly sales can be explained by unemployment rate and MarkDown1. The p-value for over all model is 2.2e-16. This is substantially lower than 0.05, we generally reject the null hypothesis. In other words, with a p-value less than 0.05, we have strong evidence that there is, in fact, a relationship between the unemployment rate, MarkDown1 and weekly sales. "
   ]
  },
  {
   "cell_type": "markdown",
   "metadata": {},
   "source": [
    "<b> 6.2) Relationship between weekly sales, Unemployement rate, MarkDown1 and temperature </b>"
   ]
  },
  {
   "cell_type": "code",
   "execution_count": 26,
   "metadata": {},
   "outputs": [
    {
     "data": {
      "text/plain": [
       "\n",
       "Call:\n",
       "lm(formula = Weekly_Sales ~ Unemployment + MarkDown1 + Temperature, \n",
       "    data = sales_all)\n",
       "\n",
       "Residuals:\n",
       "   Min     1Q Median     3Q    Max \n",
       "-36097 -13690  -8597   4345 635604 \n",
       "\n",
       "Coefficients:\n",
       "               Estimate Std. Error t value Pr(>|t|)    \n",
       "(Intercept)   1.834e+04  3.326e+02   55.13   <2e-16 ***\n",
       "Unemployment -4.905e+02  3.460e+01  -14.18   <2e-16 ***\n",
       "MarkDown1     2.440e-01  7.213e-03   33.83   <2e-16 ***\n",
       "Temperature  -4.338e+00  3.389e+00   -1.28    0.201    \n",
       "---\n",
       "Signif. codes:  0 ‘***’ 0.001 ‘**’ 0.01 ‘*’ 0.05 ‘.’ 0.1 ‘ ’ 1\n",
       "\n",
       "Residual standard error: 23160 on 150677 degrees of freedom\n",
       "  (270889 observations deleted due to missingness)\n",
       "Multiple R-squared:  0.008605,\tAdjusted R-squared:  0.008586 \n",
       "F-statistic:   436 on 3 and 150677 DF,  p-value: < 2.2e-16\n"
      ]
     },
     "metadata": {},
     "output_type": "display_data"
    }
   ],
   "source": [
    "m2 <- lm(Weekly_Sales ~ Unemployment + MarkDown1 + Temperature , data = sales_all)\n",
    "summary(m2)"
   ]
  },
  {
   "cell_type": "markdown",
   "metadata": {},
   "source": [
    "In this case, the p-value for over all model is 2.2e-16. This is substantially lower than 0.05, we generally reject the null hypothesis. In other words, with a p-value less than 0.05, we have strong evidence that there is, in fact, a relationship between the three predictors and weekly sales. Perhaps the temperature variable is unnecessary in the model given its high p-value of 0.201 which indicates that the temperature doesn't help explain the model well.\n",
    "\n"
   ]
  },
  {
   "cell_type": "markdown",
   "metadata": {},
   "source": [
    "Next, I use `anova( )` to compare m1 and m2. This will tell us whether adding temperature on top of unemployment rate and MarkDown1 further improves the model."
   ]
  },
  {
   "cell_type": "code",
   "execution_count": 27,
   "metadata": {},
   "outputs": [
    {
     "data": {
      "text/html": [
       "<table>\n",
       "<caption>A anova: 2 × 6</caption>\n",
       "<thead>\n",
       "\t<tr><th scope=col>Res.Df</th><th scope=col>RSS</th><th scope=col>Df</th><th scope=col>Sum of Sq</th><th scope=col>F</th><th scope=col>Pr(&gt;F)</th></tr>\n",
       "\t<tr><th scope=col>&lt;dbl&gt;</th><th scope=col>&lt;dbl&gt;</th><th scope=col>&lt;dbl&gt;</th><th scope=col>&lt;dbl&gt;</th><th scope=col>&lt;dbl&gt;</th><th scope=col>&lt;dbl&gt;</th></tr>\n",
       "</thead>\n",
       "<tbody>\n",
       "\t<tr><td>150678</td><td>8.084966e+13</td><td>NA</td><td>       NA</td><td>      NA</td><td>       NA</td></tr>\n",
       "\t<tr><td>150677</td><td>8.084878e+13</td><td> 1</td><td>879069333</td><td>1.638312</td><td>0.2005592</td></tr>\n",
       "</tbody>\n",
       "</table>\n"
      ],
      "text/latex": [
       "A anova: 2 × 6\n",
       "\\begin{tabular}{r|llllll}\n",
       " Res.Df & RSS & Df & Sum of Sq & F & Pr(>F)\\\\\n",
       " <dbl> & <dbl> & <dbl> & <dbl> & <dbl> & <dbl>\\\\\n",
       "\\hline\n",
       "\t 150678 & 8.084966e+13 & NA &        NA &       NA &        NA\\\\\n",
       "\t 150677 & 8.084878e+13 &  1 & 879069333 & 1.638312 & 0.2005592\\\\\n",
       "\\end{tabular}\n"
      ],
      "text/markdown": [
       "\n",
       "A anova: 2 × 6\n",
       "\n",
       "| Res.Df &lt;dbl&gt; | RSS &lt;dbl&gt; | Df &lt;dbl&gt; | Sum of Sq &lt;dbl&gt; | F &lt;dbl&gt; | Pr(&gt;F) &lt;dbl&gt; |\n",
       "|---|---|---|---|---|---|\n",
       "| 150678 | 8.084966e+13 | NA |        NA |       NA |        NA |\n",
       "| 150677 | 8.084878e+13 |  1 | 879069333 | 1.638312 | 0.2005592 |\n",
       "\n"
      ],
      "text/plain": [
       "  Res.Df RSS          Df Sum of Sq F        Pr(>F)   \n",
       "1 150678 8.084966e+13 NA        NA       NA        NA\n",
       "2 150677 8.084878e+13  1 879069333 1.638312 0.2005592"
      ]
     },
     "metadata": {},
     "output_type": "display_data"
    }
   ],
   "source": [
    "anova(m1,m2)"
   ]
  },
  {
   "cell_type": "markdown",
   "metadata": {},
   "source": [
    "The result shows a significant result (p = 0.2006). Thus, we shiould reject m2 and stick with model 1"
   ]
  },
  {
   "cell_type": "markdown",
   "metadata": {},
   "source": [
    "Thus, the best model so far is `Weekly_Sales = 1.808e+04 + (-4.913e+02) * Unnemployment + (2.443e-01) * MarkDown1`"
   ]
  },
  {
   "cell_type": "markdown",
   "metadata": {},
   "source": [
    "<b> 6.3) Relationship between weekly sales, store size, and Markdown3</b>"
   ]
  },
  {
   "cell_type": "code",
   "execution_count": 28,
   "metadata": {},
   "outputs": [
    {
     "data": {
      "text/plain": [
       "\n",
       "Call:\n",
       "lm(formula = Weekly_Sales ~ Size + MarkDown3, data = sales_all)\n",
       "\n",
       "Residuals:\n",
       "   Min     1Q Median     3Q    Max \n",
       "-36962 -13510  -6794   4595 629609 \n",
       "\n",
       "Coefficients:\n",
       "             Estimate Std. Error t value Pr(>|t|)    \n",
       "(Intercept) 3.483e+03  1.616e+02   21.55   <2e-16 ***\n",
       "Size        9.236e-02  1.054e-03   87.59   <2e-16 ***\n",
       "MarkDown3   1.213e-01  6.484e-03   18.70   <2e-16 ***\n",
       "---\n",
       "Signif. codes:  0 ‘***’ 0.001 ‘**’ 0.01 ‘*’ 0.05 ‘.’ 0.1 ‘ ’ 1\n",
       "\n",
       "Residual standard error: 23080 on 137088 degrees of freedom\n",
       "  (284479 observations deleted due to missingness)\n",
       "Multiple R-squared:  0.05645,\tAdjusted R-squared:  0.05644 \n",
       "F-statistic:  4101 on 2 and 137088 DF,  p-value: < 2.2e-16\n"
      ]
     },
     "metadata": {},
     "output_type": "display_data"
    }
   ],
   "source": [
    "m3 <- lm(Weekly_Sales ~ Size + MarkDown3, data = sales_all)\n",
    "summary(m3)\n"
   ]
  },
  {
   "cell_type": "markdown",
   "metadata": {},
   "source": [
    "In this case, we can see the R-squared of 0.056, approximately 5.6% of variation in weekly sales can be explained by store size and MarkDown3. The p-value for over all model is 2.2e-16. This is substantially lower than 0.05, we generally reject the null hypothesis. In other words, with a p-value less than 0.05, we have strong evidence that there is, in fact, a relationship between the store size, MarkDown3 and weekly sales. "
   ]
  },
  {
   "cell_type": "markdown",
   "metadata": {},
   "source": [
    "<b> 6.4) Relationship between weekly sales, store size, Markdown3, and CPI</b>"
   ]
  },
  {
   "cell_type": "code",
   "execution_count": 29,
   "metadata": {},
   "outputs": [
    {
     "data": {
      "text/plain": [
       "\n",
       "Call:\n",
       "lm(formula = Weekly_Sales ~ Size + MarkDown3 + CPI, data = sales_all)\n",
       "\n",
       "Residuals:\n",
       "   Min     1Q Median     3Q    Max \n",
       "-37352 -13507  -6671   4629 629291 \n",
       "\n",
       "Coefficients:\n",
       "              Estimate Std. Error t value Pr(>|t|)    \n",
       "(Intercept)  5.433e+03  3.147e+02  17.266  < 2e-16 ***\n",
       "Size         9.244e-02  1.054e-03  87.683  < 2e-16 ***\n",
       "MarkDown3    1.202e-01  6.485e-03  18.529  < 2e-16 ***\n",
       "CPI         -1.122e+01  1.553e+00  -7.223 5.11e-13 ***\n",
       "---\n",
       "Signif. codes:  0 ‘***’ 0.001 ‘**’ 0.01 ‘*’ 0.05 ‘.’ 0.1 ‘ ’ 1\n",
       "\n",
       "Residual standard error: 23070 on 137087 degrees of freedom\n",
       "  (284479 observations deleted due to missingness)\n",
       "Multiple R-squared:  0.05681,\tAdjusted R-squared:  0.05679 \n",
       "F-statistic:  2752 on 3 and 137087 DF,  p-value: < 2.2e-16\n"
      ]
     },
     "metadata": {},
     "output_type": "display_data"
    }
   ],
   "source": [
    "m4 <- lm(Weekly_Sales ~ Size + MarkDown3 + CPI, data = sales_all)\n",
    "summary(m4)"
   ]
  },
  {
   "cell_type": "markdown",
   "metadata": {},
   "source": [
    "Here, we can see the R-squared of 0.057, approximately 5.7% of variation in weekly sales can be explained by store size, MarkDown3, and CPI. The p-value for over all model is 2.2e-16. This is substantially lower than 0.05, we generally reject the null hypothesis. In other words, with a p-value less than 0.05, we have strong evidence that there is, in fact, a relationship between the store size, MarkDown3, CPI and weekly sales. "
   ]
  },
  {
   "cell_type": "markdown",
   "metadata": {},
   "source": [
    "Next, I use `anova( )` to compare m3 and m4. This will tell us whether adding CPI on top of Size and MarkDown3 further improves the model."
   ]
  },
  {
   "cell_type": "code",
   "execution_count": 30,
   "metadata": {},
   "outputs": [
    {
     "data": {
      "text/html": [
       "<table>\n",
       "<caption>A anova: 2 × 6</caption>\n",
       "<thead>\n",
       "\t<tr><th scope=col>Res.Df</th><th scope=col>RSS</th><th scope=col>Df</th><th scope=col>Sum of Sq</th><th scope=col>F</th><th scope=col>Pr(&gt;F)</th></tr>\n",
       "\t<tr><th scope=col>&lt;dbl&gt;</th><th scope=col>&lt;dbl&gt;</th><th scope=col>&lt;dbl&gt;</th><th scope=col>&lt;dbl&gt;</th><th scope=col>&lt;dbl&gt;</th><th scope=col>&lt;dbl&gt;</th></tr>\n",
       "</thead>\n",
       "<tbody>\n",
       "\t<tr><td>137088</td><td>7.299511e+13</td><td>NA</td><td>         NA</td><td>      NA</td><td>          NA</td></tr>\n",
       "\t<tr><td>137087</td><td>7.296734e+13</td><td> 1</td><td>27770353774</td><td>52.17341</td><td>5.107203e-13</td></tr>\n",
       "</tbody>\n",
       "</table>\n"
      ],
      "text/latex": [
       "A anova: 2 × 6\n",
       "\\begin{tabular}{r|llllll}\n",
       " Res.Df & RSS & Df & Sum of Sq & F & Pr(>F)\\\\\n",
       " <dbl> & <dbl> & <dbl> & <dbl> & <dbl> & <dbl>\\\\\n",
       "\\hline\n",
       "\t 137088 & 7.299511e+13 & NA &          NA &       NA &           NA\\\\\n",
       "\t 137087 & 7.296734e+13 &  1 & 27770353774 & 52.17341 & 5.107203e-13\\\\\n",
       "\\end{tabular}\n"
      ],
      "text/markdown": [
       "\n",
       "A anova: 2 × 6\n",
       "\n",
       "| Res.Df &lt;dbl&gt; | RSS &lt;dbl&gt; | Df &lt;dbl&gt; | Sum of Sq &lt;dbl&gt; | F &lt;dbl&gt; | Pr(&gt;F) &lt;dbl&gt; |\n",
       "|---|---|---|---|---|---|\n",
       "| 137088 | 7.299511e+13 | NA |          NA |       NA |           NA |\n",
       "| 137087 | 7.296734e+13 |  1 | 27770353774 | 52.17341 | 5.107203e-13 |\n",
       "\n"
      ],
      "text/plain": [
       "  Res.Df RSS          Df Sum of Sq   F        Pr(>F)      \n",
       "1 137088 7.299511e+13 NA          NA       NA           NA\n",
       "2 137087 7.296734e+13  1 27770353774 52.17341 5.107203e-13"
      ]
     },
     "metadata": {},
     "output_type": "display_data"
    }
   ],
   "source": [
    "anova(m3,m4)"
   ]
  },
  {
   "cell_type": "markdown",
   "metadata": {},
   "source": [
    "The result shows a significant result (p = 5.107203e-13). Thus, adding CPI further improves our model."
   ]
  },
  {
   "cell_type": "markdown",
   "metadata": {},
   "source": [
    "Thus, the best model so far is `Weekly_Sales = (5.433e+03) + (9.244e-02) * Size + (1.202e-01) * MarkDown3 + (-1.122e+01) * CPI`"
   ]
  },
  {
   "cell_type": "markdown",
   "metadata": {},
   "source": [
    "By comparing the multiple regression result with the simple regression result, I found that multiple regression model has more power than simple regression model in predicting weekly sales, but we have to keep in mind that we should  add only the factor will further improve our model."
   ]
  },
  {
   "cell_type": "markdown",
   "metadata": {},
   "source": [
    "## <a id=\"head7\"></a><font color='blue'>7) Summary"
   ]
  },
  {
   "cell_type": "markdown",
   "metadata": {},
   "source": [
    "After analyzing the dataset, I found that p-value of temperature and fuel price are not significant; changes in temperature and fuel price are not associated with changes in weekly sales. Since we don't have enough evidence to claim that there is a relationship between weekly sales and temperature, and weekly sales and fuel price, they should not be used to predict weekly sales.  \n",
    "\n",
    "Moreover, I found that p-value of CPI, unemployment rate, and store size are significant; changes in these preditor's value are related to changes in weekly sales. Since the slope of unemployment rate and CPI is negative. It indicates that weekly sales and CPI are negatively related. For example, when unemployment rate increases, weekly sales decreases,and when unemployment rate decreases, weekly sales increases. Conversely, since the slope of store size is positive, store size and weekly sales are positively related; that is when store size increases, weekly sales increases,and when store size decreases, weekly sales decreases.\n",
    "\n",
    "By looking at the multiple linear regression models, although, we can predict dependent variable better by adding multiple factors to the model, we need to be careful and check a significant result every time we add new factor to our model because that factor might cause less accurate in predicting. "
   ]
  },
  {
   "cell_type": "markdown",
   "metadata": {},
   "source": [
    "## <a id=\"head8\"></a><font color='blue'>8) Recommendations"
   ]
  },
  {
   "cell_type": "markdown",
   "metadata": {},
   "source": [
    "Base on my analysis, I would recommend that Amazon should pay more attention on the value of CPI, unemployment rate and store size before launching any products or services. If Amazon want people to spend money on their products or services, Amazon need to make an investment at the right time. For example, if Amazon launch new products while the unemployment rate is high, a lot of people might be interested but could not afford it because they are unemployed; Amazon's sales might decrease and lose money eventually. \n",
    "\n",
    "As we can see that it is very important to know which factors may have an impact on customer spending. Amazon need to study those factors that are significant in order to understand the market to better target shopper. Finally, Amazon can make informed decisions on marketing strategies to improve the sales and profit.\n"
   ]
  }
 ],
 "metadata": {
  "kernelspec": {
   "display_name": "R",
   "language": "R",
   "name": "ir"
  },
  "language_info": {
   "codemirror_mode": "r",
   "file_extension": ".r",
   "mimetype": "text/x-r-source",
   "name": "R",
   "pygments_lexer": "r",
   "version": "3.6.1"
  }
 },
 "nbformat": 4,
 "nbformat_minor": 2
}
