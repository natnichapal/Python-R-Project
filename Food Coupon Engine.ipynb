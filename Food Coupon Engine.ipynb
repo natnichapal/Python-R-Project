{
 "cells": [
  {
   "cell_type": "markdown",
   "metadata": {},
   "source": [
    "# Natnicha Palakawong na ayuthaya"
   ]
  },
  {
   "cell_type": "markdown",
   "metadata": {},
   "source": [
    "# <font color='orange'> UOP Food Coupon Engine"
   ]
  },
  {
   "cell_type": "code",
   "execution_count": 1,
   "metadata": {},
   "outputs": [],
   "source": [
    "import matplotlib.pyplot as plt\n",
    "import pandas as pd\n",
    "%matplotlib inline\n",
    "import numpy as np\n",
    "fc = pd.read_csv('/Users/natnicha/Desktop/food_coded.csv')"
   ]
  },
  {
   "cell_type": "markdown",
   "metadata": {},
   "source": [
    "1. [Objective of the Project](#head1)\n",
    "2. [Data Exploration](#head2)\n",
    "3. [Dendrogram](#head3)\n",
    "4. [Step-by-step K-means](#head4)\n",
    "5. [sklearn.cluster](#head5)\n",
    "6. [Prediction](#head6)\n",
    "7. [2D prediction mesh](#head7)\n",
    "8. [Summary & Recommendation](#head8)"
   ]
  },
  {
   "cell_type": "markdown",
   "metadata": {},
   "source": [
    "##  <a id=\"head1\"></a><font color='purple'>1. Objective of the Proposed Research"
   ]
  },
  {
   "cell_type": "markdown",
   "metadata": {},
   "source": [
    "The aim of this research is to analyze food choices and preferences of college students based on Food Choices dataset from Kaggle; this dataset includes information on food choices, nutrition, preferences, childhood favorites, and other information from college students. I will create a new recommendation engine for email coupon campaigns for the University of the Pacific. The engine will send targeted emails to students with coupons that are likely to encourage them to come.\n",
    "\n",
    "This analysis will mainly focus on three parameters which are exercise(How often do you exercise in a regular week?), fruit_day(How likely to eat fruit in a regular day?), and nutritional_check(How often do you check nutritional values?) because I would like to see whether students are concerned about their health. Therefore, I can put college students into groups based on their peferences and concerns.\n",
    "\n",
    "\n",
    "The result of this analysis could help a new all-you-can eat buffet at the University of the Pacific improve its total sales and profit. Sending coupons to students by email is an effective way of advertisement to attract and encourage more students to come to the cafeteria. Students will be more likely to use the coupons because of the coupons offer some promotion on food that they prefer."
   ]
  },
  {
   "cell_type": "markdown",
   "metadata": {},
   "source": [
    "##  <a id=\"head2\"></a><font color='purple'>2. Data Exploration"
   ]
  },
  {
   "cell_type": "markdown",
   "metadata": {},
   "source": [
    " Fill forward  values using the ffill"
   ]
  },
  {
   "cell_type": "code",
   "execution_count": 2,
   "metadata": {},
   "outputs": [],
   "source": [
    "#food = fc.dropna()\n",
    "food = fc.fillna(method='ffill')"
   ]
  },
  {
   "cell_type": "markdown",
   "metadata": {},
   "source": [
    "Exploring the number of rows and columns in dataset"
   ]
  },
  {
   "cell_type": "code",
   "execution_count": 3,
   "metadata": {},
   "outputs": [
    {
     "data": {
      "text/plain": [
       "(125, 61)"
      ]
     },
     "execution_count": 3,
     "metadata": {},
     "output_type": "execute_result"
    }
   ],
   "source": [
    "food.shape"
   ]
  },
  {
   "cell_type": "markdown",
   "metadata": {},
   "source": [
    "Name of columns in dataset"
   ]
  },
  {
   "cell_type": "code",
   "execution_count": 4,
   "metadata": {},
   "outputs": [
    {
     "data": {
      "text/plain": [
       "Index(['GPA', 'Gender', 'breakfast', 'calories_chicken', 'calories_day',\n",
       "       'calories_scone', 'coffee', 'comfort_food', 'comfort_food_reasons',\n",
       "       'comfort_food_reasons_coded', 'cook', 'comfort_food_reasons_coded.1',\n",
       "       'cuisine', 'diet_current', 'diet_current_coded', 'drink',\n",
       "       'eating_changes', 'eating_changes_coded', 'eating_changes_coded1',\n",
       "       'eating_out', 'employment', 'ethnic_food', 'exercise',\n",
       "       'father_education', 'father_profession', 'fav_cuisine',\n",
       "       'fav_cuisine_coded', 'fav_food', 'food_childhood', 'fries', 'fruit_day',\n",
       "       'grade_level', 'greek_food', 'healthy_feeling', 'healthy_meal',\n",
       "       'ideal_diet', 'ideal_diet_coded', 'income', 'indian_food',\n",
       "       'italian_food', 'life_rewarding', 'marital_status',\n",
       "       'meals_dinner_friend', 'mother_education', 'mother_profession',\n",
       "       'nutritional_check', 'on_off_campus', 'parents_cook', 'pay_meal_out',\n",
       "       'persian_food', 'self_perception_weight', 'soup', 'sports', 'thai_food',\n",
       "       'tortilla_calories', 'turkey_calories', 'type_sports', 'veggies_day',\n",
       "       'vitamins', 'waffle_calories', 'weight'],\n",
       "      dtype='object')"
      ]
     },
     "execution_count": 4,
     "metadata": {},
     "output_type": "execute_result"
    }
   ],
   "source": [
    "food.columns"
   ]
  },
  {
   "cell_type": "markdown",
   "metadata": {},
   "source": [
    "Exploring data type of each column in dataset"
   ]
  },
  {
   "cell_type": "code",
   "execution_count": 5,
   "metadata": {},
   "outputs": [
    {
     "data": {
      "text/plain": [
       "GPA                              object\n",
       "Gender                            int64\n",
       "breakfast                         int64\n",
       "calories_chicken                  int64\n",
       "calories_day                    float64\n",
       "calories_scone                  float64\n",
       "coffee                            int64\n",
       "comfort_food                     object\n",
       "comfort_food_reasons             object\n",
       "comfort_food_reasons_coded      float64\n",
       "cook                            float64\n",
       "comfort_food_reasons_coded.1      int64\n",
       "cuisine                         float64\n",
       "diet_current                     object\n",
       "diet_current_coded                int64\n",
       "drink                           float64\n",
       "eating_changes                   object\n",
       "eating_changes_coded              int64\n",
       "eating_changes_coded1             int64\n",
       "eating_out                        int64\n",
       "employment                      float64\n",
       "ethnic_food                       int64\n",
       "exercise                        float64\n",
       "father_education                float64\n",
       "father_profession                object\n",
       "fav_cuisine                      object\n",
       "fav_cuisine_coded                 int64\n",
       "fav_food                        float64\n",
       "food_childhood                   object\n",
       "fries                             int64\n",
       "                                 ...   \n",
       "grade_level                       int64\n",
       "greek_food                        int64\n",
       "healthy_feeling                   int64\n",
       "healthy_meal                     object\n",
       "ideal_diet                       object\n",
       "ideal_diet_coded                  int64\n",
       "income                          float64\n",
       "indian_food                       int64\n",
       "italian_food                      int64\n",
       "life_rewarding                  float64\n",
       "marital_status                  float64\n",
       "meals_dinner_friend              object\n",
       "mother_education                float64\n",
       "mother_profession                object\n",
       "nutritional_check                 int64\n",
       "on_off_campus                   float64\n",
       "parents_cook                      int64\n",
       "pay_meal_out                      int64\n",
       "persian_food                    float64\n",
       "self_perception_weight          float64\n",
       "soup                            float64\n",
       "sports                          float64\n",
       "thai_food                         int64\n",
       "tortilla_calories               float64\n",
       "turkey_calories                   int64\n",
       "type_sports                      object\n",
       "veggies_day                       int64\n",
       "vitamins                          int64\n",
       "waffle_calories                   int64\n",
       "weight                           object\n",
       "Length: 61, dtype: object"
      ]
     },
     "execution_count": 5,
     "metadata": {},
     "output_type": "execute_result"
    }
   ],
   "source": [
    "food.dtypes"
   ]
  },
  {
   "cell_type": "markdown",
   "metadata": {},
   "source": [
    "Generating descriptive statistics to describe a dataframe; by default, only numeric fields are returned. "
   ]
  },
  {
   "cell_type": "code",
   "execution_count": 6,
   "metadata": {},
   "outputs": [
    {
     "data": {
      "text/html": [
       "<div>\n",
       "<style scoped>\n",
       "    .dataframe tbody tr th:only-of-type {\n",
       "        vertical-align: middle;\n",
       "    }\n",
       "\n",
       "    .dataframe tbody tr th {\n",
       "        vertical-align: top;\n",
       "    }\n",
       "\n",
       "    .dataframe thead th {\n",
       "        text-align: right;\n",
       "    }\n",
       "</style>\n",
       "<table border=\"1\" class=\"dataframe\">\n",
       "  <thead>\n",
       "    <tr style=\"text-align: right;\">\n",
       "      <th></th>\n",
       "      <th>Gender</th>\n",
       "      <th>breakfast</th>\n",
       "      <th>calories_chicken</th>\n",
       "      <th>calories_day</th>\n",
       "      <th>calories_scone</th>\n",
       "      <th>coffee</th>\n",
       "      <th>comfort_food_reasons_coded</th>\n",
       "      <th>cook</th>\n",
       "      <th>comfort_food_reasons_coded.1</th>\n",
       "      <th>cuisine</th>\n",
       "      <th>...</th>\n",
       "      <th>persian_food</th>\n",
       "      <th>self_perception_weight</th>\n",
       "      <th>soup</th>\n",
       "      <th>sports</th>\n",
       "      <th>thai_food</th>\n",
       "      <th>tortilla_calories</th>\n",
       "      <th>turkey_calories</th>\n",
       "      <th>veggies_day</th>\n",
       "      <th>vitamins</th>\n",
       "      <th>waffle_calories</th>\n",
       "    </tr>\n",
       "  </thead>\n",
       "  <tbody>\n",
       "    <tr>\n",
       "      <th>count</th>\n",
       "      <td>125.000000</td>\n",
       "      <td>125.000000</td>\n",
       "      <td>125.000000</td>\n",
       "      <td>124.000000</td>\n",
       "      <td>125.000000</td>\n",
       "      <td>125.00000</td>\n",
       "      <td>125.000000</td>\n",
       "      <td>125.000000</td>\n",
       "      <td>125.000000</td>\n",
       "      <td>124.000000</td>\n",
       "      <td>...</td>\n",
       "      <td>125.000000</td>\n",
       "      <td>125.000000</td>\n",
       "      <td>125.00000</td>\n",
       "      <td>125.000000</td>\n",
       "      <td>125.000000</td>\n",
       "      <td>125.000000</td>\n",
       "      <td>125.000000</td>\n",
       "      <td>125.000000</td>\n",
       "      <td>125.000000</td>\n",
       "      <td>125.000000</td>\n",
       "    </tr>\n",
       "    <tr>\n",
       "      <th>mean</th>\n",
       "      <td>1.392000</td>\n",
       "      <td>1.112000</td>\n",
       "      <td>577.320000</td>\n",
       "      <td>3.016129</td>\n",
       "      <td>504.560000</td>\n",
       "      <td>1.75200</td>\n",
       "      <td>2.592000</td>\n",
       "      <td>2.800000</td>\n",
       "      <td>2.688000</td>\n",
       "      <td>1.370968</td>\n",
       "      <td>...</td>\n",
       "      <td>2.816000</td>\n",
       "      <td>3.120000</td>\n",
       "      <td>1.21600</td>\n",
       "      <td>1.392000</td>\n",
       "      <td>3.336000</td>\n",
       "      <td>949.320000</td>\n",
       "      <td>555.040000</td>\n",
       "      <td>4.008000</td>\n",
       "      <td>1.512000</td>\n",
       "      <td>1073.400000</td>\n",
       "    </tr>\n",
       "    <tr>\n",
       "      <th>std</th>\n",
       "      <td>0.490161</td>\n",
       "      <td>0.316636</td>\n",
       "      <td>131.214156</td>\n",
       "      <td>0.650002</td>\n",
       "      <td>230.034198</td>\n",
       "      <td>0.43359</td>\n",
       "      <td>1.832045</td>\n",
       "      <td>1.031754</td>\n",
       "      <td>1.910987</td>\n",
       "      <td>0.923653</td>\n",
       "      <td>...</td>\n",
       "      <td>1.422084</td>\n",
       "      <td>1.111523</td>\n",
       "      <td>0.41317</td>\n",
       "      <td>0.490161</td>\n",
       "      <td>1.436528</td>\n",
       "      <td>202.210909</td>\n",
       "      <td>152.370379</td>\n",
       "      <td>1.081337</td>\n",
       "      <td>0.501867</td>\n",
       "      <td>248.667092</td>\n",
       "    </tr>\n",
       "    <tr>\n",
       "      <th>min</th>\n",
       "      <td>1.000000</td>\n",
       "      <td>1.000000</td>\n",
       "      <td>265.000000</td>\n",
       "      <td>2.000000</td>\n",
       "      <td>315.000000</td>\n",
       "      <td>1.00000</td>\n",
       "      <td>1.000000</td>\n",
       "      <td>1.000000</td>\n",
       "      <td>1.000000</td>\n",
       "      <td>1.000000</td>\n",
       "      <td>...</td>\n",
       "      <td>1.000000</td>\n",
       "      <td>1.000000</td>\n",
       "      <td>1.00000</td>\n",
       "      <td>1.000000</td>\n",
       "      <td>1.000000</td>\n",
       "      <td>580.000000</td>\n",
       "      <td>345.000000</td>\n",
       "      <td>1.000000</td>\n",
       "      <td>1.000000</td>\n",
       "      <td>575.000000</td>\n",
       "    </tr>\n",
       "    <tr>\n",
       "      <th>25%</th>\n",
       "      <td>1.000000</td>\n",
       "      <td>1.000000</td>\n",
       "      <td>430.000000</td>\n",
       "      <td>3.000000</td>\n",
       "      <td>420.000000</td>\n",
       "      <td>2.00000</td>\n",
       "      <td>2.000000</td>\n",
       "      <td>2.000000</td>\n",
       "      <td>2.000000</td>\n",
       "      <td>1.000000</td>\n",
       "      <td>...</td>\n",
       "      <td>2.000000</td>\n",
       "      <td>2.000000</td>\n",
       "      <td>1.00000</td>\n",
       "      <td>1.000000</td>\n",
       "      <td>2.000000</td>\n",
       "      <td>725.000000</td>\n",
       "      <td>500.000000</td>\n",
       "      <td>3.000000</td>\n",
       "      <td>1.000000</td>\n",
       "      <td>900.000000</td>\n",
       "    </tr>\n",
       "    <tr>\n",
       "      <th>50%</th>\n",
       "      <td>1.000000</td>\n",
       "      <td>1.000000</td>\n",
       "      <td>610.000000</td>\n",
       "      <td>3.000000</td>\n",
       "      <td>420.000000</td>\n",
       "      <td>2.00000</td>\n",
       "      <td>2.000000</td>\n",
       "      <td>3.000000</td>\n",
       "      <td>2.000000</td>\n",
       "      <td>1.000000</td>\n",
       "      <td>...</td>\n",
       "      <td>3.000000</td>\n",
       "      <td>3.000000</td>\n",
       "      <td>1.00000</td>\n",
       "      <td>1.000000</td>\n",
       "      <td>3.000000</td>\n",
       "      <td>940.000000</td>\n",
       "      <td>500.000000</td>\n",
       "      <td>4.000000</td>\n",
       "      <td>2.000000</td>\n",
       "      <td>900.000000</td>\n",
       "    </tr>\n",
       "    <tr>\n",
       "      <th>75%</th>\n",
       "      <td>2.000000</td>\n",
       "      <td>1.000000</td>\n",
       "      <td>720.000000</td>\n",
       "      <td>3.000000</td>\n",
       "      <td>420.000000</td>\n",
       "      <td>2.00000</td>\n",
       "      <td>3.000000</td>\n",
       "      <td>3.000000</td>\n",
       "      <td>3.000000</td>\n",
       "      <td>1.000000</td>\n",
       "      <td>...</td>\n",
       "      <td>4.000000</td>\n",
       "      <td>4.000000</td>\n",
       "      <td>1.00000</td>\n",
       "      <td>2.000000</td>\n",
       "      <td>5.000000</td>\n",
       "      <td>1165.000000</td>\n",
       "      <td>690.000000</td>\n",
       "      <td>5.000000</td>\n",
       "      <td>2.000000</td>\n",
       "      <td>1315.000000</td>\n",
       "    </tr>\n",
       "    <tr>\n",
       "      <th>max</th>\n",
       "      <td>2.000000</td>\n",
       "      <td>2.000000</td>\n",
       "      <td>720.000000</td>\n",
       "      <td>4.000000</td>\n",
       "      <td>980.000000</td>\n",
       "      <td>2.00000</td>\n",
       "      <td>9.000000</td>\n",
       "      <td>5.000000</td>\n",
       "      <td>9.000000</td>\n",
       "      <td>6.000000</td>\n",
       "      <td>...</td>\n",
       "      <td>5.000000</td>\n",
       "      <td>6.000000</td>\n",
       "      <td>2.00000</td>\n",
       "      <td>2.000000</td>\n",
       "      <td>5.000000</td>\n",
       "      <td>1165.000000</td>\n",
       "      <td>850.000000</td>\n",
       "      <td>5.000000</td>\n",
       "      <td>2.000000</td>\n",
       "      <td>1315.000000</td>\n",
       "    </tr>\n",
       "  </tbody>\n",
       "</table>\n",
       "<p>8 rows × 47 columns</p>\n",
       "</div>"
      ],
      "text/plain": [
       "           Gender   breakfast  calories_chicken  calories_day  calories_scone  \\\n",
       "count  125.000000  125.000000        125.000000    124.000000      125.000000   \n",
       "mean     1.392000    1.112000        577.320000      3.016129      504.560000   \n",
       "std      0.490161    0.316636        131.214156      0.650002      230.034198   \n",
       "min      1.000000    1.000000        265.000000      2.000000      315.000000   \n",
       "25%      1.000000    1.000000        430.000000      3.000000      420.000000   \n",
       "50%      1.000000    1.000000        610.000000      3.000000      420.000000   \n",
       "75%      2.000000    1.000000        720.000000      3.000000      420.000000   \n",
       "max      2.000000    2.000000        720.000000      4.000000      980.000000   \n",
       "\n",
       "          coffee  comfort_food_reasons_coded        cook  \\\n",
       "count  125.00000                  125.000000  125.000000   \n",
       "mean     1.75200                    2.592000    2.800000   \n",
       "std      0.43359                    1.832045    1.031754   \n",
       "min      1.00000                    1.000000    1.000000   \n",
       "25%      2.00000                    2.000000    2.000000   \n",
       "50%      2.00000                    2.000000    3.000000   \n",
       "75%      2.00000                    3.000000    3.000000   \n",
       "max      2.00000                    9.000000    5.000000   \n",
       "\n",
       "       comfort_food_reasons_coded.1     cuisine  ...  persian_food  \\\n",
       "count                    125.000000  124.000000  ...    125.000000   \n",
       "mean                       2.688000    1.370968  ...      2.816000   \n",
       "std                        1.910987    0.923653  ...      1.422084   \n",
       "min                        1.000000    1.000000  ...      1.000000   \n",
       "25%                        2.000000    1.000000  ...      2.000000   \n",
       "50%                        2.000000    1.000000  ...      3.000000   \n",
       "75%                        3.000000    1.000000  ...      4.000000   \n",
       "max                        9.000000    6.000000  ...      5.000000   \n",
       "\n",
       "       self_perception_weight       soup      sports   thai_food  \\\n",
       "count              125.000000  125.00000  125.000000  125.000000   \n",
       "mean                 3.120000    1.21600    1.392000    3.336000   \n",
       "std                  1.111523    0.41317    0.490161    1.436528   \n",
       "min                  1.000000    1.00000    1.000000    1.000000   \n",
       "25%                  2.000000    1.00000    1.000000    2.000000   \n",
       "50%                  3.000000    1.00000    1.000000    3.000000   \n",
       "75%                  4.000000    1.00000    2.000000    5.000000   \n",
       "max                  6.000000    2.00000    2.000000    5.000000   \n",
       "\n",
       "       tortilla_calories  turkey_calories  veggies_day    vitamins  \\\n",
       "count         125.000000       125.000000   125.000000  125.000000   \n",
       "mean          949.320000       555.040000     4.008000    1.512000   \n",
       "std           202.210909       152.370379     1.081337    0.501867   \n",
       "min           580.000000       345.000000     1.000000    1.000000   \n",
       "25%           725.000000       500.000000     3.000000    1.000000   \n",
       "50%           940.000000       500.000000     4.000000    2.000000   \n",
       "75%          1165.000000       690.000000     5.000000    2.000000   \n",
       "max          1165.000000       850.000000     5.000000    2.000000   \n",
       "\n",
       "       waffle_calories  \n",
       "count       125.000000  \n",
       "mean       1073.400000  \n",
       "std         248.667092  \n",
       "min         575.000000  \n",
       "25%         900.000000  \n",
       "50%         900.000000  \n",
       "75%        1315.000000  \n",
       "max        1315.000000  \n",
       "\n",
       "[8 rows x 47 columns]"
      ]
     },
     "execution_count": 6,
     "metadata": {},
     "output_type": "execute_result"
    }
   ],
   "source": [
    "food.describe()"
   ]
  },
  {
   "cell_type": "markdown",
   "metadata": {},
   "source": [
    "Showing the first 10 rows of dataset"
   ]
  },
  {
   "cell_type": "code",
   "execution_count": 7,
   "metadata": {},
   "outputs": [
    {
     "data": {
      "text/html": [
       "<div>\n",
       "<style scoped>\n",
       "    .dataframe tbody tr th:only-of-type {\n",
       "        vertical-align: middle;\n",
       "    }\n",
       "\n",
       "    .dataframe tbody tr th {\n",
       "        vertical-align: top;\n",
       "    }\n",
       "\n",
       "    .dataframe thead th {\n",
       "        text-align: right;\n",
       "    }\n",
       "</style>\n",
       "<table border=\"1\" class=\"dataframe\">\n",
       "  <thead>\n",
       "    <tr style=\"text-align: right;\">\n",
       "      <th></th>\n",
       "      <th>GPA</th>\n",
       "      <th>Gender</th>\n",
       "      <th>breakfast</th>\n",
       "      <th>calories_chicken</th>\n",
       "      <th>calories_day</th>\n",
       "      <th>calories_scone</th>\n",
       "      <th>coffee</th>\n",
       "      <th>comfort_food</th>\n",
       "      <th>comfort_food_reasons</th>\n",
       "      <th>comfort_food_reasons_coded</th>\n",
       "      <th>...</th>\n",
       "      <th>soup</th>\n",
       "      <th>sports</th>\n",
       "      <th>thai_food</th>\n",
       "      <th>tortilla_calories</th>\n",
       "      <th>turkey_calories</th>\n",
       "      <th>type_sports</th>\n",
       "      <th>veggies_day</th>\n",
       "      <th>vitamins</th>\n",
       "      <th>waffle_calories</th>\n",
       "      <th>weight</th>\n",
       "    </tr>\n",
       "  </thead>\n",
       "  <tbody>\n",
       "    <tr>\n",
       "      <th>0</th>\n",
       "      <td>2.4</td>\n",
       "      <td>2</td>\n",
       "      <td>1</td>\n",
       "      <td>430</td>\n",
       "      <td>NaN</td>\n",
       "      <td>315.0</td>\n",
       "      <td>1</td>\n",
       "      <td>none</td>\n",
       "      <td>we dont have comfort</td>\n",
       "      <td>9.0</td>\n",
       "      <td>...</td>\n",
       "      <td>1.0</td>\n",
       "      <td>1.0</td>\n",
       "      <td>1</td>\n",
       "      <td>1165.0</td>\n",
       "      <td>345</td>\n",
       "      <td>car racing</td>\n",
       "      <td>5</td>\n",
       "      <td>1</td>\n",
       "      <td>1315</td>\n",
       "      <td>187</td>\n",
       "    </tr>\n",
       "    <tr>\n",
       "      <th>1</th>\n",
       "      <td>3.654</td>\n",
       "      <td>1</td>\n",
       "      <td>1</td>\n",
       "      <td>610</td>\n",
       "      <td>3.0</td>\n",
       "      <td>420.0</td>\n",
       "      <td>2</td>\n",
       "      <td>chocolate, chips, ice cream</td>\n",
       "      <td>Stress, bored, anger</td>\n",
       "      <td>1.0</td>\n",
       "      <td>...</td>\n",
       "      <td>1.0</td>\n",
       "      <td>1.0</td>\n",
       "      <td>2</td>\n",
       "      <td>725.0</td>\n",
       "      <td>690</td>\n",
       "      <td>Basketball</td>\n",
       "      <td>4</td>\n",
       "      <td>2</td>\n",
       "      <td>900</td>\n",
       "      <td>155</td>\n",
       "    </tr>\n",
       "    <tr>\n",
       "      <th>2</th>\n",
       "      <td>3.3</td>\n",
       "      <td>1</td>\n",
       "      <td>1</td>\n",
       "      <td>720</td>\n",
       "      <td>4.0</td>\n",
       "      <td>420.0</td>\n",
       "      <td>2</td>\n",
       "      <td>frozen yogurt, pizza, fast food</td>\n",
       "      <td>stress, sadness</td>\n",
       "      <td>1.0</td>\n",
       "      <td>...</td>\n",
       "      <td>1.0</td>\n",
       "      <td>2.0</td>\n",
       "      <td>5</td>\n",
       "      <td>1165.0</td>\n",
       "      <td>500</td>\n",
       "      <td>none</td>\n",
       "      <td>5</td>\n",
       "      <td>1</td>\n",
       "      <td>900</td>\n",
       "      <td>I'm not answering this.</td>\n",
       "    </tr>\n",
       "    <tr>\n",
       "      <th>3</th>\n",
       "      <td>3.2</td>\n",
       "      <td>1</td>\n",
       "      <td>1</td>\n",
       "      <td>430</td>\n",
       "      <td>3.0</td>\n",
       "      <td>420.0</td>\n",
       "      <td>2</td>\n",
       "      <td>Pizza, Mac and cheese, ice cream</td>\n",
       "      <td>Boredom</td>\n",
       "      <td>2.0</td>\n",
       "      <td>...</td>\n",
       "      <td>1.0</td>\n",
       "      <td>2.0</td>\n",
       "      <td>5</td>\n",
       "      <td>725.0</td>\n",
       "      <td>690</td>\n",
       "      <td>none</td>\n",
       "      <td>3</td>\n",
       "      <td>1</td>\n",
       "      <td>1315</td>\n",
       "      <td>Not sure, 240</td>\n",
       "    </tr>\n",
       "    <tr>\n",
       "      <th>4</th>\n",
       "      <td>3.5</td>\n",
       "      <td>1</td>\n",
       "      <td>1</td>\n",
       "      <td>720</td>\n",
       "      <td>2.0</td>\n",
       "      <td>420.0</td>\n",
       "      <td>2</td>\n",
       "      <td>Ice cream, chocolate, chips</td>\n",
       "      <td>Stress, boredom, cravings</td>\n",
       "      <td>1.0</td>\n",
       "      <td>...</td>\n",
       "      <td>1.0</td>\n",
       "      <td>1.0</td>\n",
       "      <td>4</td>\n",
       "      <td>940.0</td>\n",
       "      <td>500</td>\n",
       "      <td>Softball</td>\n",
       "      <td>4</td>\n",
       "      <td>2</td>\n",
       "      <td>760</td>\n",
       "      <td>190</td>\n",
       "    </tr>\n",
       "    <tr>\n",
       "      <th>5</th>\n",
       "      <td>2.25</td>\n",
       "      <td>1</td>\n",
       "      <td>1</td>\n",
       "      <td>610</td>\n",
       "      <td>3.0</td>\n",
       "      <td>980.0</td>\n",
       "      <td>2</td>\n",
       "      <td>Candy, brownies and soda.</td>\n",
       "      <td>None, i don't eat comfort food. I just eat whe...</td>\n",
       "      <td>4.0</td>\n",
       "      <td>...</td>\n",
       "      <td>1.0</td>\n",
       "      <td>2.0</td>\n",
       "      <td>4</td>\n",
       "      <td>940.0</td>\n",
       "      <td>345</td>\n",
       "      <td>None.</td>\n",
       "      <td>1</td>\n",
       "      <td>2</td>\n",
       "      <td>1315</td>\n",
       "      <td>190</td>\n",
       "    </tr>\n",
       "    <tr>\n",
       "      <th>6</th>\n",
       "      <td>3.8</td>\n",
       "      <td>2</td>\n",
       "      <td>1</td>\n",
       "      <td>610</td>\n",
       "      <td>3.0</td>\n",
       "      <td>420.0</td>\n",
       "      <td>2</td>\n",
       "      <td>Chocolate, ice cream, french fries, pretzels</td>\n",
       "      <td>stress, boredom</td>\n",
       "      <td>1.0</td>\n",
       "      <td>...</td>\n",
       "      <td>1.0</td>\n",
       "      <td>1.0</td>\n",
       "      <td>5</td>\n",
       "      <td>940.0</td>\n",
       "      <td>690</td>\n",
       "      <td>soccer</td>\n",
       "      <td>4</td>\n",
       "      <td>1</td>\n",
       "      <td>1315</td>\n",
       "      <td>180</td>\n",
       "    </tr>\n",
       "    <tr>\n",
       "      <th>7</th>\n",
       "      <td>3.3</td>\n",
       "      <td>1</td>\n",
       "      <td>1</td>\n",
       "      <td>720</td>\n",
       "      <td>3.0</td>\n",
       "      <td>420.0</td>\n",
       "      <td>1</td>\n",
       "      <td>Ice cream, cheeseburgers, chips.</td>\n",
       "      <td>I eat comfort food when im stressed out from s...</td>\n",
       "      <td>1.0</td>\n",
       "      <td>...</td>\n",
       "      <td>1.0</td>\n",
       "      <td>2.0</td>\n",
       "      <td>1</td>\n",
       "      <td>725.0</td>\n",
       "      <td>500</td>\n",
       "      <td>none</td>\n",
       "      <td>4</td>\n",
       "      <td>2</td>\n",
       "      <td>1315</td>\n",
       "      <td>137</td>\n",
       "    </tr>\n",
       "    <tr>\n",
       "      <th>8</th>\n",
       "      <td>3.3</td>\n",
       "      <td>1</td>\n",
       "      <td>1</td>\n",
       "      <td>430</td>\n",
       "      <td>3.0</td>\n",
       "      <td>420.0</td>\n",
       "      <td>1</td>\n",
       "      <td>Donuts, ice cream, chips</td>\n",
       "      <td>Boredom</td>\n",
       "      <td>2.0</td>\n",
       "      <td>...</td>\n",
       "      <td>2.0</td>\n",
       "      <td>2.0</td>\n",
       "      <td>5</td>\n",
       "      <td>725.0</td>\n",
       "      <td>345</td>\n",
       "      <td>none</td>\n",
       "      <td>3</td>\n",
       "      <td>2</td>\n",
       "      <td>760</td>\n",
       "      <td>180</td>\n",
       "    </tr>\n",
       "    <tr>\n",
       "      <th>9</th>\n",
       "      <td>3.3</td>\n",
       "      <td>1</td>\n",
       "      <td>1</td>\n",
       "      <td>430</td>\n",
       "      <td>3.0</td>\n",
       "      <td>315.0</td>\n",
       "      <td>2</td>\n",
       "      <td>Mac and cheese, chocolate, and pasta</td>\n",
       "      <td>Stress, anger and sadness</td>\n",
       "      <td>1.0</td>\n",
       "      <td>...</td>\n",
       "      <td>1.0</td>\n",
       "      <td>1.0</td>\n",
       "      <td>4</td>\n",
       "      <td>580.0</td>\n",
       "      <td>345</td>\n",
       "      <td>field hockey</td>\n",
       "      <td>5</td>\n",
       "      <td>1</td>\n",
       "      <td>900</td>\n",
       "      <td>125</td>\n",
       "    </tr>\n",
       "  </tbody>\n",
       "</table>\n",
       "<p>10 rows × 61 columns</p>\n",
       "</div>"
      ],
      "text/plain": [
       "     GPA  Gender  breakfast  calories_chicken  calories_day  calories_scone  \\\n",
       "0    2.4       2          1               430           NaN           315.0   \n",
       "1  3.654       1          1               610           3.0           420.0   \n",
       "2    3.3       1          1               720           4.0           420.0   \n",
       "3    3.2       1          1               430           3.0           420.0   \n",
       "4    3.5       1          1               720           2.0           420.0   \n",
       "5   2.25       1          1               610           3.0           980.0   \n",
       "6    3.8       2          1               610           3.0           420.0   \n",
       "7    3.3       1          1               720           3.0           420.0   \n",
       "8    3.3       1          1               430           3.0           420.0   \n",
       "9    3.3       1          1               430           3.0           315.0   \n",
       "\n",
       "   coffee                                  comfort_food  \\\n",
       "0       1                                          none   \n",
       "1       2                   chocolate, chips, ice cream   \n",
       "2       2               frozen yogurt, pizza, fast food   \n",
       "3       2              Pizza, Mac and cheese, ice cream   \n",
       "4       2                  Ice cream, chocolate, chips    \n",
       "5       2                     Candy, brownies and soda.   \n",
       "6       2  Chocolate, ice cream, french fries, pretzels   \n",
       "7       1              Ice cream, cheeseburgers, chips.   \n",
       "8       1                      Donuts, ice cream, chips   \n",
       "9       2         Mac and cheese, chocolate, and pasta    \n",
       "\n",
       "                                comfort_food_reasons  \\\n",
       "0                              we dont have comfort    \n",
       "1                               Stress, bored, anger   \n",
       "2                                    stress, sadness   \n",
       "3                                            Boredom   \n",
       "4                         Stress, boredom, cravings    \n",
       "5  None, i don't eat comfort food. I just eat whe...   \n",
       "6                                    stress, boredom   \n",
       "7  I eat comfort food when im stressed out from s...   \n",
       "8                                           Boredom    \n",
       "9                         Stress, anger and sadness    \n",
       "\n",
       "   comfort_food_reasons_coded  ...  soup  sports  thai_food tortilla_calories  \\\n",
       "0                         9.0  ...   1.0     1.0          1            1165.0   \n",
       "1                         1.0  ...   1.0     1.0          2             725.0   \n",
       "2                         1.0  ...   1.0     2.0          5            1165.0   \n",
       "3                         2.0  ...   1.0     2.0          5             725.0   \n",
       "4                         1.0  ...   1.0     1.0          4             940.0   \n",
       "5                         4.0  ...   1.0     2.0          4             940.0   \n",
       "6                         1.0  ...   1.0     1.0          5             940.0   \n",
       "7                         1.0  ...   1.0     2.0          1             725.0   \n",
       "8                         2.0  ...   2.0     2.0          5             725.0   \n",
       "9                         1.0  ...   1.0     1.0          4             580.0   \n",
       "\n",
       "   turkey_calories   type_sports veggies_day  vitamins  waffle_calories  \\\n",
       "0              345    car racing           5         1             1315   \n",
       "1              690   Basketball            4         2              900   \n",
       "2              500          none           5         1              900   \n",
       "3              690          none           3         1             1315   \n",
       "4              500      Softball           4         2              760   \n",
       "5              345         None.           1         2             1315   \n",
       "6              690        soccer           4         1             1315   \n",
       "7              500          none           4         2             1315   \n",
       "8              345          none           3         2              760   \n",
       "9              345  field hockey           5         1              900   \n",
       "\n",
       "                     weight  \n",
       "0                       187  \n",
       "1                       155  \n",
       "2  I'm not answering this.   \n",
       "3             Not sure, 240  \n",
       "4                       190  \n",
       "5                       190  \n",
       "6                       180  \n",
       "7                       137  \n",
       "8                       180  \n",
       "9                       125  \n",
       "\n",
       "[10 rows x 61 columns]"
      ]
     },
     "execution_count": 7,
     "metadata": {},
     "output_type": "execute_result"
    }
   ],
   "source": [
    "food.iloc[0:10,:]"
   ]
  },
  {
   "cell_type": "markdown",
   "metadata": {},
   "source": [
    "##  <a id=\"head3\"></a><font color='purple'>3. Dendrogram"
   ]
  },
  {
   "cell_type": "code",
   "execution_count": 8,
   "metadata": {},
   "outputs": [],
   "source": [
    "## Columns: eating out, exercise, fruit day, nutritional check\n",
    "food_df = food.iloc[:, lambda food: [23, 31, 46,]].values"
   ]
  },
  {
   "cell_type": "code",
   "execution_count": 9,
   "metadata": {},
   "outputs": [
    {
     "data": {
      "image/png": "[encoded data removed]",
      "text/plain": [
       "<Figure size 720x504 with 1 Axes>"
      ]
     },
     "metadata": {
      "needs_background": "light"
     },
     "output_type": "display_data"
    }
   ],
   "source": [
    "import scipy.cluster.hierarchy as sch\n",
    "\n",
    "plt.figure(figsize=(10, 7))\n",
    "plt.title(\"Food Choices\")\n",
    "dend = sch.dendrogram(sch.linkage(food_df, method='ward'))"
   ]
  },
  {
   "cell_type": "markdown",
   "metadata": {},
   "source": [
    "I used 'ward' as the method since it minimizes then variants of distances between the clusters.<br>\n",
    "I try to set the threshold in such a way that it cuts the tallest vertical line. If I draw a horizontal line that passes through longest distance without a horizontal line, I get 4 clusters.<br>\n",
    "Therefore, k = 4\n"
   ]
  },
  {
   "cell_type": "markdown",
   "metadata": {},
   "source": [
    "##  <a id=\"head4\"></a><font color='purple'>4. Step-by-step K-means "
   ]
  },
  {
   "cell_type": "code",
   "execution_count": 10,
   "metadata": {},
   "outputs": [],
   "source": [
    "import matplotlib.pyplot as plt\n",
    "from matplotlib.colors import ListedColormap\n",
    "from sklearn import datasets\n",
    "from sklearn.cluster import KMeans\n",
    "import sklearn.metrics as sm\n",
    "from scipy.cluster.hierarchy import linkage, dendrogram\n",
    " \n",
    "import pandas as pd\n",
    "import numpy as np\n",
    "\n",
    "# Set some pandas options\n",
    "pd.set_option('display.notebook_repr_html', False)\n",
    "pd.set_option('display.max_rows', 60)\n",
    "pd.set_option('display.max_columns', 60)\n",
    "pd.set_option('display.width', 1000)\n",
    " \n",
    "%matplotlib inline"
   ]
  },
  {
   "cell_type": "markdown",
   "metadata": {},
   "source": [
    "<b> Data </b>"
   ]
  },
  {
   "cell_type": "code",
   "execution_count": 12,
   "metadata": {},
   "outputs": [
    {
     "data": {
      "text/plain": [
       "array([[5., 2., 1.],\n",
       "       [2., 4., 1.],\n",
       "       [2., 3., 2.],\n",
       "       [2., 4., 1.],\n",
       "       [4., 4., 1.],\n",
       "       [1., 2., 1.],\n",
       "       [4., 4., 2.],\n",
       "       [3., 2., 1.],\n",
       "       [5., 1., 1.],\n",
       "       [5., 1., 1.],\n",
       "       [2., 3., 3.],\n",
       "       [3., 2., 1.],\n",
       "       [3., 1., 1.],\n",
       "       [2., 3., 2.],\n",
       "       [4., 3., 2.],\n",
       "       [5., 1., 1.],\n",
       "       [1., 1., 1.],\n",
       "       [2., 1., 1.],\n",
       "       [5., 2., 1.],\n",
       "       [5., 1., 1.],\n",
       "       [5., 2., 1.],\n",
       "       [4., 4., 1.],\n",
       "       [4., 1., 1.],\n",
       "       [4., 3., 1.],\n",
       "       [3., 3., 1.],\n",
       "       [4., 1., 1.],\n",
       "       [4., 2., 1.],\n",
       "       [5., 1., 1.],\n",
       "       [4., 3., 1.],\n",
       "       [5., 3., 1.],\n",
       "       [2., 4., 3.],\n",
       "       [4., 2., 4.],\n",
       "       [5., 4., 1.],\n",
       "       [4., 1., 1.],\n",
       "       [4., 1., 1.],\n",
       "       [4., 3., 2.],\n",
       "       [5., 2., 1.],\n",
       "       [2., 4., 1.],\n",
       "       [4., 4., 1.],\n",
       "       [5., 4., 2.],\n",
       "       [4., 1., 1.],\n",
       "       [2., 2., 1.],\n",
       "       [4., 2., 1.],\n",
       "       [2., 3., 1.],\n",
       "       [4., 4., 2.],\n",
       "       [4., 2., 1.],\n",
       "       [3., 1., 1.],\n",
       "       [5., 1., 1.],\n",
       "       [4., 2., 1.],\n",
       "       [2., 3., 1.],\n",
       "       [3., 3., 3.],\n",
       "       [2., 2., 1.],\n",
       "       [3., 2., 1.],\n",
       "       [2., 4., 3.],\n",
       "       [4., 2., 1.],\n",
       "       [1., 1., 1.],\n",
       "       [4., 4., 2.],\n",
       "       [2., 2., 1.],\n",
       "       [4., 3., 2.],\n",
       "       [4., 4., 2.],\n",
       "       [4., 1., 1.],\n",
       "       [2., 4., 3.],\n",
       "       [2., 4., 1.],\n",
       "       [4., 3., 1.],\n",
       "       [2., 2., 1.],\n",
       "       [5., 2., 1.],\n",
       "       [2., 1., 1.],\n",
       "       [2., 2., 1.],\n",
       "       [5., 1., 1.],\n",
       "       [4., 3., 2.],\n",
       "       [4., 3., 1.],\n",
       "       [2., 3., 1.],\n",
       "       [2., 1., 1.],\n",
       "       [4., 2., 3.],\n",
       "       [1., 3., 2.],\n",
       "       [4., 1., 1.],\n",
       "       [2., 4., 2.],\n",
       "       [2., 4., 1.],\n",
       "       [2., 2., 1.],\n",
       "       [3., 1., 1.],\n",
       "       [2., 1., 1.],\n",
       "       [4., 4., 1.],\n",
       "       [4., 3., 1.],\n",
       "       [2., 1., 1.],\n",
       "       [4., 2., 1.],\n",
       "       [5., 1., 1.],\n",
       "       [2., 1., 1.],\n",
       "       [4., 2., 1.],\n",
       "       [2., 3., 1.],\n",
       "       [4., 3., 1.],\n",
       "       [2., 1., 1.],\n",
       "       [5., 3., 2.],\n",
       "       [2., 3., 1.],\n",
       "       [5., 1., 1.],\n",
       "       [4., 4., 1.],\n",
       "       [4., 3., 1.],\n",
       "       [2., 1., 1.],\n",
       "       [5., 2., 1.],\n",
       "       [4., 4., 4.],\n",
       "       [3., 1., 1.],\n",
       "       [2., 1., 1.],\n",
       "       [4., 1., 1.],\n",
       "       [5., 2., 1.],\n",
       "       [4., 3., 1.],\n",
       "       [4., 1., 1.],\n",
       "       [4., 4., 2.],\n",
       "       [5., 1., 1.],\n",
       "       [3., 2., 1.],\n",
       "       [4., 2., 1.],\n",
       "       [5., 2., 1.],\n",
       "       [4., 4., 2.],\n",
       "       [2., 3., 3.],\n",
       "       [5., 4., 1.],\n",
       "       [4., 4., 1.],\n",
       "       [5., 2., 1.],\n",
       "       [5., 1., 1.],\n",
       "       [3., 1., 1.],\n",
       "       [2., 2., 1.],\n",
       "       [2., 2., 3.],\n",
       "       [5., 4., 1.],\n",
       "       [4., 4., 3.],\n",
       "       [5., 4., 1.],\n",
       "       [5., 3., 1.],\n",
       "       [3., 1., 1.],\n",
       "       [4., 3., 1.]])"
      ]
     },
     "execution_count": 12,
     "metadata": {},
     "output_type": "execute_result"
    }
   ],
   "source": [
    "food_df"
   ]
  },
  {
   "cell_type": "markdown",
   "metadata": {},
   "source": [
    "I chose three columns from the dataset"
   ]
  },
  {
   "cell_type": "code",
   "execution_count": 13,
   "metadata": {},
   "outputs": [
    {
     "data": {
      "text/plain": [
       "   exercise  fruit_day  nutritional_check\n",
       "0       5.0        2.0                1.0\n",
       "1       2.0        4.0                1.0\n",
       "2       2.0        3.0                2.0\n",
       "3       2.0        4.0                1.0\n",
       "4       4.0        4.0                1.0\n",
       "5       1.0        2.0                1.0\n",
       "6       4.0        4.0                2.0\n",
       "7       3.0        2.0                1.0\n",
       "8       5.0        1.0                1.0\n",
       "9       5.0        1.0                1.0"
      ]
     },
     "execution_count": 13,
     "metadata": {},
     "output_type": "execute_result"
    }
   ],
   "source": [
    "food_df = pd.DataFrame(food_df)\n",
    "food_df.columns = [\"exercise\", \"fruit_day\", \"nutritional_check\"]\n",
    "food_df.head(10)"
   ]
  },
  {
   "cell_type": "markdown",
   "metadata": {},
   "source": [
    "According to the k I determined in the previous section, I randomly picked 4 points from data and call them as centroids. \n"
   ]
  },
  {
   "cell_type": "code",
   "execution_count": 14,
   "metadata": {},
   "outputs": [],
   "source": [
    "import random\n",
    "import math\n",
    "from math import sqrt"
   ]
  },
  {
   "cell_type": "code",
   "execution_count": 15,
   "metadata": {},
   "outputs": [],
   "source": [
    "\n",
    "def calRandomCentroids(k, food_df):\n",
    "    centroids = []\n",
    "    for i in range(k):\n",
    "        rand = random.randint(0,len(food_df)-1)\n",
    "        randVal = tuple(food_df.loc[rand].values)\n",
    "        while randVal in centroids:\n",
    "            rand = random.randint(0,len(food_df)-1)\n",
    "            randVal = tuple(food_df.loc[rand].values)\n",
    "        else:\n",
    "            centroids.append(randVal)\n",
    "    return centroids"
   ]
  },
  {
   "cell_type": "markdown",
   "metadata": {},
   "source": [
    " I calculateed the distance between each data point and the randomly picked centroid."
   ]
  },
  {
   "cell_type": "markdown",
   "metadata": {},
   "source": [
    "Then, I assigned the data point to the cluster centroid whose distance is minimum among all the centroids."
   ]
  },
  {
   "cell_type": "code",
   "execution_count": 16,
   "metadata": {},
   "outputs": [],
   "source": [
    "\n",
    "def calDist(a,b):\n",
    "    return math.sqrt(sum((np.array(a)-np.array(b))**2))\n",
    "\n",
    "def makeClusters(k, food_df, centroids):\n",
    "    clusters = {}\n",
    "    for tup in centroids:\n",
    "        clusters[tup] = []\n",
    "    for i in range(len(food_df)):\n",
    "        pointDists = {}\n",
    "        for tup in centroids:\n",
    "            dist = calDist(tuple(food_df.loc[i].values),tup)\n",
    "            pointDists[dist] = tup\n",
    "        ncp = pointDists.get(min(pointDists)) \n",
    "        clusters[ncp].append(i) #or i\n",
    "    return clusters  "
   ]
  },
  {
   "cell_type": "markdown",
   "metadata": {},
   "source": [
    "Next, I recalculated the new centroids using the formula."
   ]
  },
  {
   "cell_type": "code",
   "execution_count": 17,
   "metadata": {},
   "outputs": [],
   "source": [
    "\n",
    "def calNewCentroids(clusters):\n",
    "    newcentroids = []\n",
    "    for k in clusters:\n",
    "        sumc = 0\n",
    "        for l in range(len(clusters[k])):\n",
    "            sumc += food_df.loc[clusters[k][l]]\n",
    "        cent = sumc/len(clusters[k])\n",
    "        newcentroids.append(tuple(cent))\n",
    "    return newcentroids"
   ]
  },
  {
   "cell_type": "code",
   "execution_count": 18,
   "metadata": {},
   "outputs": [],
   "source": [
    "\n",
    "\n",
    "def checkConvergence(k,oldcentroids,newcentroids):\n",
    "    result = []\n",
    "    for i in range(k):\n",
    "        rs = calDist(oldcentroids[i],newcentroids[i])\n",
    "        result.append(rs)\n",
    "    #print(\"convergence result is {}\".format(result))\n",
    "    count = 0\n",
    "    for i in range(len(result)):\n",
    "        if result[i] <= 0.0001:\n",
    "            count = count+1\n",
    "    return True if count == len(result) else False "
   ]
  },
  {
   "cell_type": "markdown",
   "metadata": {},
   "source": [
    " I am considering k=4 and calling the function kmeans()"
   ]
  },
  {
   "cell_type": "code",
   "execution_count": 19,
   "metadata": {},
   "outputs": [
    {
     "name": "stdout",
     "output_type": "stream",
     "text": [
      "Final clusterings are {(4.222222222222222, 3.5, 1.5555555555555556): [4, 6, 14, 21, 23, 28, 29, 31, 32, 35, 38, 39, 44, 56, 58, 59, 63, 69, 70, 81, 82, 89, 91, 94, 95, 98, 103, 105, 110, 112, 113, 119, 120, 121, 122, 124], (2.0454545454545454, 3.3636363636363638, 1.8181818181818181): [1, 2, 3, 10, 13, 24, 30, 37, 43, 49, 50, 53, 61, 62, 71, 74, 76, 77, 88, 92, 111, 118], (2.2413793103448274, 1.4137931034482758, 1.0): [5, 7, 11, 12, 16, 17, 41, 46, 51, 52, 55, 57, 64, 66, 67, 72, 78, 79, 80, 83, 86, 90, 96, 99, 100, 107, 116, 117, 123], (4.526315789473684, 1.4736842105263157, 1.0526315789473684): [0, 8, 9, 15, 18, 19, 20, 22, 25, 26, 27, 33, 34, 36, 40, 42, 45, 47, 48, 54, 60, 65, 68, 73, 75, 84, 85, 87, 93, 97, 101, 102, 104, 106, 108, 109, 114, 115]}\n"
     ]
    }
   ],
   "source": [
    "    \n",
    "\n",
    "def kmeans(k, food_df):\n",
    "    \n",
    "    centroids = calRandomCentroids(k, food_df)\n",
    "    #print(\"random centroids are {}\".format(centroids))\n",
    "    oldcentroids = centroids\n",
    "    \n",
    "    clusters = makeClusters(k, food_df, oldcentroids)\n",
    "    #print(\"first iter clusters are {}\".format(clusters))   \n",
    "    \n",
    "    newcentroids = calNewCentroids(clusters)\n",
    "    #print(\"new centroids are {}\".format(newcentroids))\n",
    "    \n",
    "    res = checkConvergence(k,oldcentroids,newcentroids)\n",
    "    #print(res)\n",
    "    \n",
    "    while res == False:\n",
    "        oldcentroids = newcentroids\n",
    "        clusters = makeClusters(k, food_df, oldcentroids)\n",
    "        #print(\"further iter clusters are {}\".format(clusters))   \n",
    "        newcentroids = calNewCentroids(clusters)\n",
    "        res = checkConvergence(k,oldcentroids,newcentroids)\n",
    "        #print(res)\n",
    "    else:\n",
    "        print(\"Final clusterings are {}\".format(clusters)) \n",
    "    \n",
    "\n",
    "kmeans(4, food_df)   "
   ]
  },
  {
   "cell_type": "markdown",
   "metadata": {},
   "source": [
    "The kmeans() function accepts a dataframe and k as parameters, and returns the clusters created.\n",
    "According to the Final clusterings output, the output shows that there are four clusters. It shows the centroid of each cluster and the rows number(student) that fall into each cluster."
   ]
  },
  {
   "cell_type": "markdown",
   "metadata": {},
   "source": [
    "##  <a id=\"head5\"></a><font color='purple'>5. sklearn.cluster "
   ]
  },
  {
   "cell_type": "markdown",
   "metadata": {},
   "source": [
    "Creating the base k-means model using KMeans() Function"
   ]
  },
  {
   "cell_type": "code",
   "execution_count": 20,
   "metadata": {},
   "outputs": [
    {
     "data": {
      "text/plain": [
       "KMeans(algorithm='auto', copy_x=True, init='k-means++', max_iter=300,\n",
       "       n_clusters=4, n_init=10, n_jobs=None, precompute_distances='auto',\n",
       "       random_state=None, tol=0.0001, verbose=0)"
      ]
     },
     "execution_count": 20,
     "metadata": {},
     "output_type": "execute_result"
    }
   ],
   "source": [
    "from sklearn.cluster import KMeans\n",
    "#Initializing K-means with 4 clusters\n",
    "k_means = KMeans(n_clusters = 4)\n",
    "#Fitting the model on the data\n",
    "k_means.fit(food_df)"
   ]
  },
  {
   "cell_type": "code",
   "execution_count": 21,
   "metadata": {},
   "outputs": [
    {
     "data": {
      "text/plain": [
       "array([2, 3, 3, 3, 0, 1, 0, 1, 2, 2, 3, 1, 1, 3, 0, 2, 1, 1, 2, 2, 2, 0,\n",
       "       2, 0, 3, 2, 2, 2, 0, 0, 3, 0, 0, 2, 2, 0, 2, 3, 0, 0, 2, 1, 2, 3,\n",
       "       0, 2, 1, 2, 2, 3, 3, 1, 1, 3, 2, 1, 0, 1, 0, 0, 2, 3, 3, 0, 1, 2,\n",
       "       1, 1, 2, 0, 0, 3, 1, 0, 3, 2, 3, 3, 1, 1, 1, 0, 0, 1, 2, 2, 1, 2,\n",
       "       3, 0, 1, 0, 3, 2, 0, 0, 1, 2, 0, 1, 1, 2, 2, 0, 2, 0, 2, 1, 2, 2,\n",
       "       0, 3, 0, 0, 2, 2, 1, 1, 3, 0, 0, 0, 0, 1, 0], dtype=int32)"
      ]
     },
     "execution_count": 21,
     "metadata": {},
     "output_type": "execute_result"
    }
   ],
   "source": [
    "k_means.labels_"
   ]
  },
  {
   "cell_type": "code",
   "execution_count": 22,
   "metadata": {},
   "outputs": [
    {
     "name": "stdout",
     "output_type": "stream",
     "text": [
      "[[4.21621622 3.45945946 1.59459459]\n",
      " [2.24137931 1.4137931  1.        ]\n",
      " [4.54054054 1.45945946 1.        ]\n",
      " [2.04545455 3.36363636 1.81818182]]\n"
     ]
    }
   ],
   "source": [
    "print(k_means.cluster_centers_)"
   ]
  },
  {
   "cell_type": "code",
   "execution_count": 23,
   "metadata": {},
   "outputs": [
    {
     "data": {
      "text/plain": [
       "   exercise  fruit_day  nutritional_check\n",
       "0       5.0        2.0                1.0\n",
       "1       2.0        4.0                1.0\n",
       "2       2.0        3.0                2.0\n",
       "3       2.0        4.0                1.0\n",
       "4       4.0        4.0                1.0\n",
       "5       1.0        2.0                1.0\n",
       "6       4.0        4.0                2.0\n",
       "7       3.0        2.0                1.0\n",
       "8       5.0        1.0                1.0\n",
       "9       5.0        1.0                1.0"
      ]
     },
     "execution_count": 23,
     "metadata": {},
     "output_type": "execute_result"
    }
   ],
   "source": [
    "food2 = food_df\n",
    "food2.head(10)"
   ]
  },
  {
   "cell_type": "markdown",
   "metadata": {},
   "source": [
    "Adding cluster column to the data frame to show which cluster(1-4) each student falls into."
   ]
  },
  {
   "cell_type": "code",
   "execution_count": 24,
   "metadata": {},
   "outputs": [
    {
     "data": {
      "text/plain": [
       "   exercise  fruit_day  nutritional_check  cluster\n",
       "0       5.0        2.0                1.0        3\n",
       "1       2.0        4.0                1.0        4\n",
       "2       2.0        3.0                2.0        4\n",
       "3       2.0        4.0                1.0        4\n",
       "4       4.0        4.0                1.0        1\n",
       "5       1.0        2.0                1.0        2\n",
       "6       4.0        4.0                2.0        1\n",
       "7       3.0        2.0                1.0        2\n",
       "8       5.0        1.0                1.0        3\n",
       "9       5.0        1.0                1.0        3"
      ]
     },
     "execution_count": 24,
     "metadata": {},
     "output_type": "execute_result"
    }
   ],
   "source": [
    "food2['cluster'] = k_means.labels_ + 1\n",
    "food2.head(10)"
   ]
  },
  {
   "cell_type": "markdown",
   "metadata": {},
   "source": [
    "Showing how many total rows(students) fall into each cluster."
   ]
  },
  {
   "cell_type": "code",
   "execution_count": 25,
   "metadata": {},
   "outputs": [
    {
     "data": {
      "text/plain": [
       "(37, 4)"
      ]
     },
     "execution_count": 25,
     "metadata": {},
     "output_type": "execute_result"
    }
   ],
   "source": [
    "food2[food2.cluster == 1].shape"
   ]
  },
  {
   "cell_type": "markdown",
   "metadata": {},
   "source": [
    "There are 22 students in cluster 1."
   ]
  },
  {
   "cell_type": "code",
   "execution_count": 26,
   "metadata": {},
   "outputs": [
    {
     "data": {
      "text/plain": [
       "(29, 4)"
      ]
     },
     "execution_count": 26,
     "metadata": {},
     "output_type": "execute_result"
    }
   ],
   "source": [
    "food2[food2.cluster == 2].shape"
   ]
  },
  {
   "cell_type": "markdown",
   "metadata": {},
   "source": [
    "There are 37 students in cluster 2."
   ]
  },
  {
   "cell_type": "code",
   "execution_count": 27,
   "metadata": {},
   "outputs": [
    {
     "data": {
      "text/plain": [
       "(37, 4)"
      ]
     },
     "execution_count": 27,
     "metadata": {},
     "output_type": "execute_result"
    }
   ],
   "source": [
    "food2[food2.cluster == 3].shape"
   ]
  },
  {
   "cell_type": "markdown",
   "metadata": {},
   "source": [
    "There are 37 students in cluster 3."
   ]
  },
  {
   "cell_type": "code",
   "execution_count": 28,
   "metadata": {},
   "outputs": [
    {
     "data": {
      "text/plain": [
       "(22, 4)"
      ]
     },
     "execution_count": 28,
     "metadata": {},
     "output_type": "execute_result"
    }
   ],
   "source": [
    "food2[food2.cluster == 4].shape"
   ]
  },
  {
   "cell_type": "markdown",
   "metadata": {},
   "source": [
    "There are 29 students in cluster 4."
   ]
  },
  {
   "cell_type": "markdown",
   "metadata": {},
   "source": [
    "##  <a id=\"head6\"></a><font color='purple'>6. Prediction"
   ]
  },
  {
   "cell_type": "markdown",
   "metadata": {},
   "source": [
    "I created a coupon function that accepts 3 parameters, which represent the characteristics of the student, and will print coupons according to the cluster the student belongs to."
   ]
  },
  {
   "cell_type": "code",
   "execution_count": 30,
   "metadata": {},
   "outputs": [
    {
     "name": "stdout",
     "output_type": "stream",
     "text": [
      "1\n",
      "How often do you exercise in a regular week?(1-5): 5\n",
      "How likely to eat fruit in a regular day?(1-5): 2\n",
      "How often do you check nutritional values?(1-5): 1\n",
      "Student will receive coupon3\n",
      "2\n",
      "How often do you exercise in a regular week?(1-5): 2\n",
      "How likely to eat fruit in a regular day?(1-5): 4\n",
      "How often do you check nutritional values?(1-5): 1\n",
      "Student will receive coupon4\n",
      "3\n",
      "How often do you exercise in a regular week?(1-5): 5\n",
      "How likely to eat fruit in a regular day?(1-5): 1\n",
      "How often do you check nutritional values?(1-5): 1\n",
      "Student will receive coupon3\n",
      "4\n",
      "How often do you exercise in a regular week?(1-5): 1\n",
      "How likely to eat fruit in a regular day?(1-5): 2\n",
      "How often do you check nutritional values?(1-5): 1\n",
      "Student will receive coupon2\n",
      "5\n",
      "How often do you exercise in a regular week?(1-5): 4\n",
      "How likely to eat fruit in a regular day?(1-5): 1\n",
      "How often do you check nutritional values?(1-5): 4\n",
      "Student will receive coupon3\n",
      "6\n",
      "How often do you exercise in a regular week?(1-5): 1\n",
      "How likely to eat fruit in a regular day?(1-5): 3\n",
      "How often do you check nutritional values?(1-5): 1\n",
      "Student will receive coupon4\n",
      "7\n",
      "How often do you exercise in a regular week?(1-5): 4\n",
      "How likely to eat fruit in a regular day?(1-5): 4\n",
      "How often do you check nutritional values?(1-5): 1\n",
      "Student will receive coupon1\n",
      "8\n",
      "How often do you exercise in a regular week?(1-5): 4\n",
      "How likely to eat fruit in a regular day?(1-5): 4\n",
      "How often do you check nutritional values?(1-5): 2\n",
      "Student will receive coupon1\n",
      "9\n",
      "How often do you exercise in a regular week?(1-5): 3\n",
      "How likely to eat fruit in a regular day?(1-5): 5\n",
      "How often do you check nutritional values?(1-5): 3\n",
      "Student will receive coupon4\n",
      "10\n",
      "How often do you exercise in a regular week?(1-5): 3\n",
      "How likely to eat fruit in a regular day?(1-5): 4\n",
      "How often do you check nutritional values?(1-5): 3\n",
      "Student will receive coupon4\n"
     ]
    }
   ],
   "source": [
    "\n",
    "def coupon(p1,p2,p3):\n",
    "    coupon = np.array(['coupon1','coupon2','coupon3','coupon4'])\n",
    "    data_class = k_means.predict(np.array([exercise, fruit, nutritional_check]).reshape(1, -1))[0]  \n",
    "    print('Student will receive', coupon[data_class])\n",
    "\n",
    "for i in range(10):\n",
    "    print(i+1)\n",
    "    exercise = int(input('How often do you exercise in a regular week?(1-5): '))\n",
    "    fruit = int(input('How likely to eat fruit in a regular day?(1-5): '))\n",
    "    nutritional_check = int(input('How often do you check nutritional values?(1-5): '))\n",
    "    coupon(exercise, fruit, nutritional_check)"
   ]
  },
  {
   "cell_type": "markdown",
   "metadata": {},
   "source": [
    "Due to the different student's preference in food, each student receive different coupon according to cluster that they are in."
   ]
  },
  {
   "cell_type": "markdown",
   "metadata": {},
   "source": [
    "##  <a id=\"head7\"></a><font color='purple'>7. 2D prediction mesh"
   ]
  },
  {
   "cell_type": "code",
   "execution_count": 31,
   "metadata": {},
   "outputs": [],
   "source": [
    "value = food.iloc[:, lambda food: [23, 31]].values"
   ]
  },
  {
   "cell_type": "code",
   "execution_count": 32,
   "metadata": {},
   "outputs": [
    {
     "data": {
      "text/plain": [
       "   exercise  fruit_day\n",
       "0       5.0        2.0\n",
       "1       2.0        4.0\n",
       "2       2.0        3.0\n",
       "3       2.0        4.0\n",
       "4       4.0        4.0"
      ]
     },
     "execution_count": 32,
     "metadata": {},
     "output_type": "execute_result"
    }
   ],
   "source": [
    "value_df = pd.DataFrame(value)\n",
    "value_df.columns = [\"exercise\", \"fruit_day\"]\n",
    "value_df.head(5)"
   ]
  },
  {
   "cell_type": "code",
   "execution_count": 33,
   "metadata": {},
   "outputs": [
    {
     "data": {
      "text/plain": [
       "KMeans(algorithm='auto', copy_x=True, init='k-means++', max_iter=300,\n",
       "       n_clusters=4, n_init=10, n_jobs=None, precompute_distances='auto',\n",
       "       random_state=None, tol=0.0001, verbose=0)"
      ]
     },
     "execution_count": 33,
     "metadata": {},
     "output_type": "execute_result"
    }
   ],
   "source": [
    "#Initializing K-means with 2 clusters\n",
    "model = KMeans(n_clusters = 4)\n",
    "#Fitting the model on the data\n",
    "model.fit(value_df)"
   ]
  },
  {
   "cell_type": "code",
   "execution_count": 34,
   "metadata": {},
   "outputs": [
    {
     "data": {
      "text/plain": [
       "array([0, 1, 1, 1, 3, 2, 3, 2, 0, 0, 1, 2, 2, 1, 3, 0, 2, 2, 0, 0, 0, 3,\n",
       "       0, 3, 1, 0, 0, 0, 3, 3, 1, 0, 3, 0, 0, 3, 0, 1, 3, 3, 0, 2, 0, 1,\n",
       "       3, 0, 2, 0, 0, 1, 1, 2, 2, 1, 0, 2, 3, 2, 3, 3, 0, 1, 1, 3, 2, 0,\n",
       "       2, 2, 0, 3, 3, 1, 2, 0, 1, 0, 1, 1, 2, 2, 2, 3, 3, 2, 0, 0, 2, 0,\n",
       "       1, 3, 2, 3, 1, 0, 3, 3, 2, 0, 3, 2, 2, 0, 0, 3, 0, 3, 0, 2, 0, 0,\n",
       "       3, 1, 3, 3, 0, 0, 2, 2, 2, 3, 3, 3, 3, 2, 3], dtype=int32)"
      ]
     },
     "execution_count": 34,
     "metadata": {},
     "output_type": "execute_result"
    }
   ],
   "source": [
    "model.labels_"
   ]
  },
  {
   "cell_type": "code",
   "execution_count": 35,
   "metadata": {},
   "outputs": [
    {
     "name": "stderr",
     "output_type": "stream",
     "text": [
      "//anaconda3/lib/python3.7/site-packages/ipykernel_launcher.py:25: MatplotlibDeprecationWarning: Adding an axes using the same arguments as a previous axes currently reuses the earlier instance.  In a future version, a new instance will always be created and returned.  Meanwhile, this warning can be suppressed, and the future behavior ensured, by passing a unique label to each axes instance.\n"
     ]
    },
    {
     "data": {
      "image/png": "[encoded data removed]",
      "text/plain": [
       "<Figure size 432x288 with 1 Axes>"
      ]
     },
     "metadata": {
      "needs_background": "light"
     },
     "output_type": "display_data"
    }
   ],
   "source": [
    "def plotMesh():\n",
    "    # Step size of the mesh. Decrease to increase the quality of the VQ.\n",
    "    h = 0.1\n",
    "    # Create color maps\n",
    "    cmap_light = ListedColormap(['#ffffcc','#ccd9ff','#f5ccff','#aaaaaa'])\n",
    "    colormap = np.array(['yellow', 'blue','magenta','black'])\n",
    "\n",
    "    x_min, x_max = value_df.exercise.min() - 1, value_df.exercise.max() + 1\n",
    "    y_min, y_max = value_df.fruit_day.min() - 1, value_df.fruit_day.max() + 1\n",
    "    xx, yy = np.meshgrid(np.arange(x_min, x_max, h),np.arange(y_min, y_max, h))\n",
    "    # Obtain labels for each point in mesh. Use last trained model.\n",
    "    Z = model.predict(np.c_[xx.ravel(), yy.ravel()])\n",
    "    \n",
    "    # Put the result into a color plot\n",
    "    Z = Z.reshape(xx.shape)\n",
    "    fig = plt.figure()\n",
    "    plt.pcolormesh(xx, yy, Z, cmap = cmap_light)\n",
    "    \n",
    "    # Plot also the training points\n",
    "    plt.scatter(value_df.exercise, value_df.fruit_day, c = colormap[model.labels_], s = 80)\n",
    "    plt.xlim(xx.min(), xx.max())\n",
    "    plt.ylim(yy.min(), yy.max())\n",
    "    plt.title(\"4-Class classification \\n(k = %i)\\n\\\n",
    "    group 1 - Yellow, group 2 - blue, group 3 - magenta, group 4 - black\" % (4))\n",
    "    ax = fig.add_subplot(111)\n",
    "    ax.set_xlabel('Exercise')\n",
    "    ax.set_ylabel('fruit day')\n",
    "\n",
    "    \n",
    "plotMesh()"
   ]
  },
  {
   "cell_type": "markdown",
   "metadata": {},
   "source": [
    "We can see the data points are in the form of four clusters. The data points in the top right (black group) belongs to the students who very likely eat fruit in a regular day and exercise very often. These are the students that are being healthy."
   ]
  },
  {
   "cell_type": "markdown",
   "metadata": {},
   "source": [
    "##  <a id=\"head8\"></a><font color='purple'>8. Summary and Recommendation"
   ]
  },
  {
   "cell_type": "markdown",
   "metadata": {},
   "source": [
    "My task is to create a recommendation engine for email coupon campaigns for a new all-you-can-eat buffet at the University of the Pacific. This engine will send targeted emails to students with coupons that are likely to encourage them to come. In order to create the engine to generate and email coupons based on food choices and preferences of college students, I have to put students into clusters. \n",
    "\n",
    "First, I cleaned the dataset by using the forward fill method to fill nan value. Second, I created a dendrogram and determined on the k number of clusters, which is k = 4. Then, I created function kmeans() to make clusters. This function will generate centroids and group students into the closest centroid. Moreover, I created coupon() function to predict which cluster the student belongs to and print coupons based on the characteristics of the student. Finally, I create a 2D prediction mesh to visualize students cluster based on their exercise and eating habit.\n",
    "\n",
    "In conclusion, this coupon campaigns for a new all-you-can-eat buffet is an effective way to advertise this new buffet to students. This coupons will encourage more students to come to the new buffet because they will receive some offers about food that they are more likely to eat. This campaigns could help a new all-you-can eat buffet at the University of the Pacific improve its total sales and profit. \n",
    "\n",
    "\n",
    "\n"
   ]
  }
 ],
 "metadata": {
  "kernelspec": {
   "display_name": "Python 3",
   "language": "python",
   "name": "python3"
  },
  "language_info": {
   "codemirror_mode": {
    "name": "ipython",
    "version": 3
   },
   "file_extension": ".py",
   "mimetype": "text/x-python",
   "name": "python",
   "nbconvert_exporter": "python",
   "pygments_lexer": "ipython3",
   "version": "3.7.3"
  }
 },
 "nbformat": 4,
 "nbformat_minor": 2
}
